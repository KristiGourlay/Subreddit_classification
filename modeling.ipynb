{
 "cells": [
  {
   "cell_type": "markdown",
   "metadata": {},
   "source": [
    "# Project 4: Scraping Sub-Reddits and Using NLP to Compare"
   ]
  },
  {
   "cell_type": "markdown",
   "metadata": {},
   "source": [
    "# Summary and Introduction"
   ]
  },
  {
   "cell_type": "markdown",
   "metadata": {},
   "source": [
    "For this project, we were required to scrape two sub-reddits and than use NLP and a Bayes Classifier to try and predict from which sub-reddit the post came. The two sub-reddits that I chose to compare are:\n",
    "\n",
    "                            -TalesFromYourServer\n",
    "                            -TalesFromTheCustomer\n",
    "                      \n",
    "Mainly all of the posts located in 'TalesFromYourServer' have to do with stories being shared by servers and bartenders about their experiences in the industry. The 'TalesFromTheCustomer' are primarily about customers sharing their experiences in restaurants, but also features stories about other service areas. My objective in this project is to train a model to predict from which sub-reddit each comment, labeled 'selftext', belongs. The scraping of the reddit site has been performed in the first notebook, labeled \"Scraping_for_project_4\". I successfully scraped 40 pages from each sub-reddit and concatenated the two data frames together. 'TalesFromYourServer' was labeled 0 and 'TalesFromTheCustomer' was labeled 1."
   ]
  },
  {
   "cell_type": "markdown",
   "metadata": {},
   "source": [
    "# Import Libraries"
   ]
  },
  {
   "cell_type": "code",
   "execution_count": 1,
   "metadata": {},
   "outputs": [],
   "source": [
    "import pandas as pd\n",
    "import numpy as np\n",
    "import seaborn as sns\n",
    "import altair as alt\n",
    "import sklearn.metrics as metrics\n",
    "\n",
    "from nltk.tokenize import RegexpTokenizer\n",
    "import nltk\n",
    "from nltk.corpus import stopwords\n",
    "from nltk.stem import WordNetLemmatizer\n",
    "\n",
    "from sklearn.feature_extraction.text import CountVectorizer, TfidfVectorizer\n",
    "from sklearn_pandas import DataFrameMapper\n",
    "from sklearn.preprocessing import StandardScaler\n",
    "from sklearn.model_selection import train_test_split, cross_val_score\n",
    "from sklearn.metrics import confusion_matrix, accuracy_score\n",
    "from sklearn.linear_model import LogisticRegression, LinearRegression\n",
    "from sklearn.naive_bayes import MultinomialNB\n",
    "from sklearn.pipeline import Pipeline, make_pipeline\n",
    "\n",
    "\n",
    "df = pd.read_csv('reddit_scraping.csv')\n",
    "df = df.drop(columns=['Unnamed: 0'])"
   ]
  },
  {
   "cell_type": "code",
   "execution_count": 2,
   "metadata": {},
   "outputs": [
    {
     "data": {
      "text/html": [
       "<div>\n",
       "<style scoped>\n",
       "    .dataframe tbody tr th:only-of-type {\n",
       "        vertical-align: middle;\n",
       "    }\n",
       "\n",
       "    .dataframe tbody tr th {\n",
       "        vertical-align: top;\n",
       "    }\n",
       "\n",
       "    .dataframe thead th {\n",
       "        text-align: right;\n",
       "    }\n",
       "</style>\n",
       "<table border=\"1\" class=\"dataframe\">\n",
       "  <thead>\n",
       "    <tr style=\"text-align: right;\">\n",
       "      <th></th>\n",
       "      <th>author</th>\n",
       "      <th>downs</th>\n",
       "      <th>name</th>\n",
       "      <th>num_comments</th>\n",
       "      <th>permalink</th>\n",
       "      <th>selftext</th>\n",
       "      <th>subreddit</th>\n",
       "      <th>title</th>\n",
       "      <th>ups</th>\n",
       "    </tr>\n",
       "  </thead>\n",
       "  <tbody>\n",
       "    <tr>\n",
       "      <th>1950</th>\n",
       "      <td>aflythatlikespie</td>\n",
       "      <td>0</td>\n",
       "      <td>t3_bksw60</td>\n",
       "      <td>5</td>\n",
       "      <td>/r/TalesFromTheCustomer/comments/bksw60/thanks...</td>\n",
       "      <td>I think this counts because it was in a store....</td>\n",
       "      <td>1</td>\n",
       "      <td>Thanks random guy</td>\n",
       "      <td>47</td>\n",
       "    </tr>\n",
       "    <tr>\n",
       "      <th>1951</th>\n",
       "      <td>rooty27k</td>\n",
       "      <td>0</td>\n",
       "      <td>t3_bkv8j0</td>\n",
       "      <td>6</td>\n",
       "      <td>/r/TalesFromTheCustomer/comments/bkv8j0/meat_f...</td>\n",
       "      <td>So my wife (vegetarian) and went out to celebr...</td>\n",
       "      <td>1</td>\n",
       "      <td>Meat filled desserts</td>\n",
       "      <td>12</td>\n",
       "    </tr>\n",
       "  </tbody>\n",
       "</table>\n",
       "</div>"
      ],
      "text/plain": [
       "                author  downs       name  num_comments  \\\n",
       "1950  aflythatlikespie      0  t3_bksw60             5   \n",
       "1951          rooty27k      0  t3_bkv8j0             6   \n",
       "\n",
       "                                              permalink  \\\n",
       "1950  /r/TalesFromTheCustomer/comments/bksw60/thanks...   \n",
       "1951  /r/TalesFromTheCustomer/comments/bkv8j0/meat_f...   \n",
       "\n",
       "                                               selftext  subreddit  \\\n",
       "1950  I think this counts because it was in a store....          1   \n",
       "1951  So my wife (vegetarian) and went out to celebr...          1   \n",
       "\n",
       "                     title  ups  \n",
       "1950     Thanks random guy   47  \n",
       "1951  Meat filled desserts   12  "
      ]
     },
     "execution_count": 2,
     "metadata": {},
     "output_type": "execute_result"
    }
   ],
   "source": [
    "df.tail(2)"
   ]
  },
  {
   "cell_type": "markdown",
   "metadata": {},
   "source": [
    "The dataframe has been seperated into the following columns:\n",
    "\n",
    "\n",
    "               -Author: The id of the poster\n",
    "               -Downs: The number of times the post has been down-voted\n",
    "               -Name: Name of the poster\n",
    "               -Num_comments: Number of comments that the post recieved\n",
    "               -Permalink: The address for the post\n",
    "               -Selftext: The body of the post\n",
    "               -Title: Title of the post\n",
    "               -Ups: Numer of times the post has been up-voted"
   ]
  },
  {
   "cell_type": "markdown",
   "metadata": {},
   "source": [
    "# EDA"
   ]
  },
  {
   "cell_type": "code",
   "execution_count": 3,
   "metadata": {},
   "outputs": [
    {
     "name": "stdout",
     "output_type": "stream",
     "text": [
      "<class 'pandas.core.frame.DataFrame'>\n",
      "RangeIndex: 1952 entries, 0 to 1951\n",
      "Data columns (total 9 columns):\n",
      "author          1952 non-null object\n",
      "downs           1952 non-null int64\n",
      "name            1952 non-null object\n",
      "num_comments    1952 non-null int64\n",
      "permalink       1952 non-null object\n",
      "selftext        1911 non-null object\n",
      "subreddit       1952 non-null int64\n",
      "title           1951 non-null object\n",
      "ups             1952 non-null int64\n",
      "dtypes: int64(4), object(5)\n",
      "memory usage: 137.3+ KB\n"
     ]
    }
   ],
   "source": [
    "df.info() "
   ]
  },
  {
   "cell_type": "code",
   "execution_count": 4,
   "metadata": {},
   "outputs": [
    {
     "data": {
      "text/plain": [
       "author           0\n",
       "downs            0\n",
       "name             0\n",
       "num_comments     0\n",
       "permalink        0\n",
       "selftext        41\n",
       "subreddit        0\n",
       "title            1\n",
       "ups              0\n",
       "dtype: int64"
      ]
     },
     "execution_count": 4,
     "metadata": {},
     "output_type": "execute_result"
    }
   ],
   "source": [
    "df.isna().sum()"
   ]
  },
  {
   "cell_type": "markdown",
   "metadata": {},
   "source": [
    "Seeing that there are 41 null items in the 'selftext' category and 1 null item in the title, instead of imputing, since the occurrences are infrequent, I have no problem deleting the rows with these null values. I will still have 1910 rows to work with."
   ]
  },
  {
   "cell_type": "code",
   "execution_count": 5,
   "metadata": {},
   "outputs": [
    {
     "data": {
      "text/plain": [
       "author          0\n",
       "downs           0\n",
       "name            0\n",
       "num_comments    0\n",
       "permalink       0\n",
       "selftext        0\n",
       "subreddit       0\n",
       "title           0\n",
       "ups             0\n",
       "dtype: int64"
      ]
     },
     "execution_count": 5,
     "metadata": {},
     "output_type": "execute_result"
    }
   ],
   "source": [
    "df = df.dropna()\n",
    "df.isna().sum()"
   ]
  },
  {
   "cell_type": "code",
   "execution_count": 6,
   "metadata": {},
   "outputs": [
    {
     "data": {
      "text/html": [
       "<div>\n",
       "<style scoped>\n",
       "    .dataframe tbody tr th:only-of-type {\n",
       "        vertical-align: middle;\n",
       "    }\n",
       "\n",
       "    .dataframe tbody tr th {\n",
       "        vertical-align: top;\n",
       "    }\n",
       "\n",
       "    .dataframe thead th {\n",
       "        text-align: right;\n",
       "    }\n",
       "</style>\n",
       "<table border=\"1\" class=\"dataframe\">\n",
       "  <thead>\n",
       "    <tr style=\"text-align: right;\">\n",
       "      <th></th>\n",
       "      <th>downs</th>\n",
       "      <th>num_comments</th>\n",
       "      <th>subreddit</th>\n",
       "      <th>ups</th>\n",
       "    </tr>\n",
       "  </thead>\n",
       "  <tbody>\n",
       "    <tr>\n",
       "      <th>count</th>\n",
       "      <td>1910.0</td>\n",
       "      <td>1910.000000</td>\n",
       "      <td>1910.000000</td>\n",
       "      <td>1910.000000</td>\n",
       "    </tr>\n",
       "    <tr>\n",
       "      <th>mean</th>\n",
       "      <td>0.0</td>\n",
       "      <td>29.351309</td>\n",
       "      <td>0.508377</td>\n",
       "      <td>331.490576</td>\n",
       "    </tr>\n",
       "    <tr>\n",
       "      <th>std</th>\n",
       "      <td>0.0</td>\n",
       "      <td>57.458725</td>\n",
       "      <td>0.500061</td>\n",
       "      <td>743.086732</td>\n",
       "    </tr>\n",
       "    <tr>\n",
       "      <th>min</th>\n",
       "      <td>0.0</td>\n",
       "      <td>0.000000</td>\n",
       "      <td>0.000000</td>\n",
       "      <td>0.000000</td>\n",
       "    </tr>\n",
       "    <tr>\n",
       "      <th>25%</th>\n",
       "      <td>0.0</td>\n",
       "      <td>5.000000</td>\n",
       "      <td>0.000000</td>\n",
       "      <td>16.000000</td>\n",
       "    </tr>\n",
       "    <tr>\n",
       "      <th>50%</th>\n",
       "      <td>0.0</td>\n",
       "      <td>10.000000</td>\n",
       "      <td>1.000000</td>\n",
       "      <td>39.000000</td>\n",
       "    </tr>\n",
       "    <tr>\n",
       "      <th>75%</th>\n",
       "      <td>0.0</td>\n",
       "      <td>25.000000</td>\n",
       "      <td>1.000000</td>\n",
       "      <td>184.000000</td>\n",
       "    </tr>\n",
       "    <tr>\n",
       "      <th>max</th>\n",
       "      <td>0.0</td>\n",
       "      <td>701.000000</td>\n",
       "      <td>1.000000</td>\n",
       "      <td>9476.000000</td>\n",
       "    </tr>\n",
       "  </tbody>\n",
       "</table>\n",
       "</div>"
      ],
      "text/plain": [
       "        downs  num_comments    subreddit          ups\n",
       "count  1910.0   1910.000000  1910.000000  1910.000000\n",
       "mean      0.0     29.351309     0.508377   331.490576\n",
       "std       0.0     57.458725     0.500061   743.086732\n",
       "min       0.0      0.000000     0.000000     0.000000\n",
       "25%       0.0      5.000000     0.000000    16.000000\n",
       "50%       0.0     10.000000     1.000000    39.000000\n",
       "75%       0.0     25.000000     1.000000   184.000000\n",
       "max       0.0    701.000000     1.000000  9476.000000"
      ]
     },
     "execution_count": 6,
     "metadata": {},
     "output_type": "execute_result"
    }
   ],
   "source": [
    "df.describe()"
   ]
  },
  {
   "cell_type": "code",
   "execution_count": 7,
   "metadata": {},
   "outputs": [],
   "source": [
    "df2 = df.groupby('subreddit')['selftext'].apply(lambda x: np.mean(x.str.len()))\n",
    "#On average TalesFromTheCustomer posts are longer than those on TalesFromYourServer"
   ]
  },
  {
   "cell_type": "code",
   "execution_count": 8,
   "metadata": {},
   "outputs": [],
   "source": [
    "df2 = pd.DataFrame(df2)\n",
    "df2 = df2.reset_index()\n",
    "df2['subreddit'] = ['Server', 'Customer']"
   ]
  },
  {
   "cell_type": "code",
   "execution_count": 9,
   "metadata": {},
   "outputs": [],
   "source": [
    "df2['title_length'] = df.groupby('subreddit')['title'].apply(lambda x: np.mean(x.str.len()))"
   ]
  },
  {
   "cell_type": "code",
   "execution_count": 10,
   "metadata": {},
   "outputs": [],
   "source": [
    "df2['avg_ups'] = df.groupby('subreddit')['ups'].mean()"
   ]
  },
  {
   "cell_type": "code",
   "execution_count": 11,
   "metadata": {},
   "outputs": [],
   "source": [
    "df2['avg_num_comments'] = df.groupby('subreddit')['num_comments'].mean()"
   ]
  },
  {
   "cell_type": "code",
   "execution_count": 12,
   "metadata": {},
   "outputs": [
    {
     "data": {
      "text/html": [
       "<div>\n",
       "<style scoped>\n",
       "    .dataframe tbody tr th:only-of-type {\n",
       "        vertical-align: middle;\n",
       "    }\n",
       "\n",
       "    .dataframe tbody tr th {\n",
       "        vertical-align: top;\n",
       "    }\n",
       "\n",
       "    .dataframe thead th {\n",
       "        text-align: right;\n",
       "    }\n",
       "</style>\n",
       "<table border=\"1\" class=\"dataframe\">\n",
       "  <thead>\n",
       "    <tr style=\"text-align: right;\">\n",
       "      <th></th>\n",
       "      <th>subreddit</th>\n",
       "      <th>selftext</th>\n",
       "      <th>title_length</th>\n",
       "      <th>avg_ups</th>\n",
       "      <th>avg_num_comments</th>\n",
       "    </tr>\n",
       "  </thead>\n",
       "  <tbody>\n",
       "    <tr>\n",
       "      <th>0</th>\n",
       "      <td>Server</td>\n",
       "      <td>1587.100106</td>\n",
       "      <td>45.275825</td>\n",
       "      <td>272.197018</td>\n",
       "      <td>26.067093</td>\n",
       "    </tr>\n",
       "    <tr>\n",
       "      <th>1</th>\n",
       "      <td>Customer</td>\n",
       "      <td>2263.126674</td>\n",
       "      <td>45.283213</td>\n",
       "      <td>388.830072</td>\n",
       "      <td>32.527291</td>\n",
       "    </tr>\n",
       "  </tbody>\n",
       "</table>\n",
       "</div>"
      ],
      "text/plain": [
       "  subreddit     selftext  title_length     avg_ups  avg_num_comments\n",
       "0    Server  1587.100106     45.275825  272.197018         26.067093\n",
       "1  Customer  2263.126674     45.283213  388.830072         32.527291"
      ]
     },
     "execution_count": 12,
     "metadata": {},
     "output_type": "execute_result"
    }
   ],
   "source": [
    "df2"
   ]
  },
  {
   "cell_type": "code",
   "execution_count": 13,
   "metadata": {},
   "outputs": [
    {
     "data": {
      "application/javascript": [
       "var spec = {\"config\": {\"view\": {\"width\": 400, \"height\": 300}}, \"hconcat\": [{\"data\": {\"name\": \"data-dbf6e4f2833d7ab2056bd657728913c8\"}, \"mark\": {\"type\": \"bar\", \"color\": \"darkred\"}, \"encoding\": {\"x\": {\"type\": \"nominal\", \"field\": \"subreddit\"}, \"y\": {\"type\": \"quantitative\", \"field\": \"selftext\"}}}, {\"data\": {\"name\": \"data-dbf6e4f2833d7ab2056bd657728913c8\"}, \"mark\": {\"type\": \"bar\", \"color\": \"grey\"}, \"encoding\": {\"x\": {\"type\": \"nominal\", \"field\": \"subreddit\"}, \"y\": {\"type\": \"quantitative\", \"field\": \"title_length\"}}}, {\"data\": {\"name\": \"data-dbf6e4f2833d7ab2056bd657728913c8\"}, \"mark\": {\"type\": \"bar\", \"color\": \"black\"}, \"encoding\": {\"x\": {\"type\": \"nominal\", \"field\": \"subreddit\"}, \"y\": {\"type\": \"quantitative\", \"field\": \"avg_num_comments\"}}}, {\"data\": {\"name\": \"data-dbf6e4f2833d7ab2056bd657728913c8\"}, \"mark\": {\"type\": \"bar\", \"color\": \"red\"}, \"encoding\": {\"x\": {\"type\": \"nominal\", \"field\": \"subreddit\"}, \"y\": {\"type\": \"quantitative\", \"field\": \"avg_ups\"}}}], \"$schema\": \"https://vega.github.io/schema/vega-lite/v2.6.0.json\", \"datasets\": {\"data-dbf6e4f2833d7ab2056bd657728913c8\": [{\"subreddit\": \"Server\", \"selftext\": 1587.1001064962727, \"title_length\": 45.27582534611289, \"avg_ups\": 272.19701810436635, \"avg_num_comments\": 26.06709265175719}, {\"subreddit\": \"Customer\", \"selftext\": 2263.1266735324407, \"title_length\": 45.2832131822863, \"avg_ups\": 388.8300720906282, \"avg_num_comments\": 32.52729145211123}]}};\n",
       "var opt = {};\n",
       "var type = \"vega-lite\";\n",
       "var id = \"757b42ba-015b-4817-92ed-0deab4fa3dbc\";\n",
       "\n",
       "var output_area = this;\n",
       "\n",
       "require([\"nbextensions/jupyter-vega/index\"], function(vega) {\n",
       "  var target = document.createElement(\"div\");\n",
       "  target.id = id;\n",
       "  target.className = \"vega-embed\";\n",
       "\n",
       "  var style = document.createElement(\"style\");\n",
       "  style.textContent = [\n",
       "    \".vega-embed .error p {\",\n",
       "    \"  color: firebrick;\",\n",
       "    \"  font-size: 14px;\",\n",
       "    \"}\",\n",
       "  ].join(\"\\\\n\");\n",
       "\n",
       "  // element is a jQuery wrapped DOM element inside the output area\n",
       "  // see http://ipython.readthedocs.io/en/stable/api/generated/\\\n",
       "  // IPython.display.html#IPython.display.Javascript.__init__\n",
       "  element[0].appendChild(target);\n",
       "  element[0].appendChild(style);\n",
       "\n",
       "  vega.render(\"#\" + id, spec, type, opt, output_area);\n",
       "}, function (err) {\n",
       "  if (err.requireType !== \"scripterror\") {\n",
       "    throw(err);\n",
       "  }\n",
       "});\n"
      ],
      "text/plain": [
       "<vega.vegalite.VegaLite at 0x1a21dc5b38>"
      ]
     },
     "metadata": {
      "jupyter-vega": "#757b42ba-015b-4817-92ed-0deab4fa3dbc"
     },
     "output_type": "display_data"
    },
    {
     "data": {
      "text/plain": []
     },
     "execution_count": 13,
     "metadata": {},
     "output_type": "execute_result"
    },
    {
     "data": {
      "image/png": "[encoded data removed]"
     },
     "metadata": {
      "jupyter-vega": "#757b42ba-015b-4817-92ed-0deab4fa3dbc"
     },
     "output_type": "display_data"
    }
   ],
   "source": [
    "alt.renderers.enable('notebook')\n",
    "\n",
    "Chart1 = alt.Chart(df2).mark_bar(color='darkred').encode(\n",
    "    alt.X('subreddit'),\n",
    "    y='selftext'\n",
    ")\n",
    "\n",
    "Chart2 = alt.Chart(df2).mark_bar(color='grey').encode(\n",
    "    alt.X('subreddit'),\n",
    "    y='title_length'\n",
    ")\n",
    "\n",
    "Chart3 = alt.Chart(df2).mark_bar(color='black').encode(\n",
    "    alt.X('subreddit'),\n",
    "    y='avg_num_comments'\n",
    ")\n",
    "\n",
    "Chart4 = alt.Chart(df2).mark_bar(color='red').encode(\n",
    "    alt.X('subreddit'),\n",
    "    y='avg_ups'\n",
    ")\n",
    "\n",
    "Chart1 | Chart2 | Chart3 | Chart4"
   ]
  },
  {
   "cell_type": "markdown",
   "metadata": {},
   "source": [
    "As the bargraphs show, there are some noticeable differences between the two sub-reddits. 'TalesFromTheCustomer' has, on average, longer posts, more comments, and more ups.\n",
    "\n",
    "\n",
    "Considering I did the scraping myself, I am fairly confident that there will not be an imbalance in the target value. But I will double check!"
   ]
  },
  {
   "cell_type": "code",
   "execution_count": 14,
   "metadata": {},
   "outputs": [
    {
     "data": {
      "text/plain": [
       "1    971\n",
       "0    939\n",
       "Name: subreddit, dtype: int64"
      ]
     },
     "execution_count": 14,
     "metadata": {},
     "output_type": "execute_result"
    }
   ],
   "source": [
    "df['subreddit'].value_counts() "
   ]
  },
  {
   "cell_type": "code",
   "execution_count": 15,
   "metadata": {},
   "outputs": [
    {
     "data": {
      "text/plain": [
       "author          object\n",
       "downs            int64\n",
       "name            object\n",
       "num_comments     int64\n",
       "permalink       object\n",
       "selftext        object\n",
       "subreddit        int64\n",
       "title           object\n",
       "ups              int64\n",
       "dtype: object"
      ]
     },
     "execution_count": 15,
     "metadata": {},
     "output_type": "execute_result"
    }
   ],
   "source": [
    "df.dtypes"
   ]
  },
  {
   "cell_type": "markdown",
   "metadata": {},
   "source": [
    "# Cleaning: Tokenizing and Lemmatizing"
   ]
  },
  {
   "cell_type": "code",
   "execution_count": 16,
   "metadata": {},
   "outputs": [],
   "source": [
    "lemmatizer = WordNetLemmatizer()\n",
    "st = df['selftext'].tolist()"
   ]
  },
  {
   "cell_type": "code",
   "execution_count": 17,
   "metadata": {},
   "outputs": [],
   "source": [
    "def clean_reddit(raw_review):\n",
    "    lower_case = raw_review.lower()\n",
    "    retokenizer = RegexpTokenizer(r'[a-z]+')\n",
    "    words = retokenizer.tokenize(lower_case)\n",
    "    return(lemmatizer.lemmatize(\" \".join(words)))"
   ]
  },
  {
   "cell_type": "code",
   "execution_count": 18,
   "metadata": {},
   "outputs": [],
   "source": [
    "num_posts = df['selftext'].size\n",
    "clean_posts = []\n",
    "\n",
    "for i in range(0, num_posts):\n",
    "        clean_posts.append( clean_reddit( st[i] ))"
   ]
  },
  {
   "cell_type": "code",
   "execution_count": 19,
   "metadata": {},
   "outputs": [],
   "source": [
    "df['selftext'] = clean_posts"
   ]
  },
  {
   "cell_type": "code",
   "execution_count": 20,
   "metadata": {},
   "outputs": [
    {
     "data": {
      "text/html": [
       "<div>\n",
       "<style scoped>\n",
       "    .dataframe tbody tr th:only-of-type {\n",
       "        vertical-align: middle;\n",
       "    }\n",
       "\n",
       "    .dataframe tbody tr th {\n",
       "        vertical-align: top;\n",
       "    }\n",
       "\n",
       "    .dataframe thead th {\n",
       "        text-align: right;\n",
       "    }\n",
       "</style>\n",
       "<table border=\"1\" class=\"dataframe\">\n",
       "  <thead>\n",
       "    <tr style=\"text-align: right;\">\n",
       "      <th></th>\n",
       "      <th>author</th>\n",
       "      <th>downs</th>\n",
       "      <th>name</th>\n",
       "      <th>num_comments</th>\n",
       "      <th>permalink</th>\n",
       "      <th>selftext</th>\n",
       "      <th>subreddit</th>\n",
       "      <th>title</th>\n",
       "      <th>ups</th>\n",
       "    </tr>\n",
       "  </thead>\n",
       "  <tbody>\n",
       "    <tr>\n",
       "      <th>0</th>\n",
       "      <td>WalkinSteveHawkin</td>\n",
       "      <td>0</td>\n",
       "      <td>t3_at8kic</td>\n",
       "      <td>250</td>\n",
       "      <td>/r/TalesFromYourServer/comments/at8kic/dedicat...</td>\n",
       "      <td>hi all amp x b i realized our new server advic...</td>\n",
       "      <td>0</td>\n",
       "      <td>Dedicated thread for new server advice</td>\n",
       "      <td>113</td>\n",
       "    </tr>\n",
       "    <tr>\n",
       "      <th>1</th>\n",
       "      <td>BraskytheSOB</td>\n",
       "      <td>0</td>\n",
       "      <td>t3_bmkpp8</td>\n",
       "      <td>10</td>\n",
       "      <td>/r/TalesFromYourServer/comments/bmkpp8/im_a_so...</td>\n",
       "      <td>short and sweet one today prime steak house wo...</td>\n",
       "      <td>0</td>\n",
       "      <td>\"I'm a sommmelier\" woman orders house malbec. ...</td>\n",
       "      <td>110</td>\n",
       "    </tr>\n",
       "  </tbody>\n",
       "</table>\n",
       "</div>"
      ],
      "text/plain": [
       "              author  downs       name  num_comments  \\\n",
       "0  WalkinSteveHawkin      0  t3_at8kic           250   \n",
       "1       BraskytheSOB      0  t3_bmkpp8            10   \n",
       "\n",
       "                                           permalink  \\\n",
       "0  /r/TalesFromYourServer/comments/at8kic/dedicat...   \n",
       "1  /r/TalesFromYourServer/comments/bmkpp8/im_a_so...   \n",
       "\n",
       "                                            selftext  subreddit  \\\n",
       "0  hi all amp x b i realized our new server advic...          0   \n",
       "1  short and sweet one today prime steak house wo...          0   \n",
       "\n",
       "                                               title  ups  \n",
       "0             Dedicated thread for new server advice  113  \n",
       "1  \"I'm a sommmelier\" woman orders house malbec. ...  110  "
      ]
     },
     "execution_count": 20,
     "metadata": {},
     "output_type": "execute_result"
    }
   ],
   "source": [
    "df.head(2)"
   ]
  },
  {
   "cell_type": "markdown",
   "metadata": {},
   "source": [
    "# Labeling x and y and Train Test Split"
   ]
  },
  {
   "cell_type": "code",
   "execution_count": 21,
   "metadata": {},
   "outputs": [],
   "source": [
    "x = df['selftext']\n",
    "y = df['subreddit']"
   ]
  },
  {
   "cell_type": "code",
   "execution_count": 22,
   "metadata": {},
   "outputs": [],
   "source": [
    "x_train, x_test, y_train, y_test = train_test_split(x, y, test_size=.2, random_state=42, shuffle=True, stratify=y)\n",
    "#Making sure that we are shuffling the data as it is in order and stratifying y."
   ]
  },
  {
   "cell_type": "code",
   "execution_count": 23,
   "metadata": {},
   "outputs": [
    {
     "name": "stdout",
     "output_type": "stream",
     "text": [
      "(1528,)\n",
      "(1528,)\n",
      "(382,)\n",
      "(382,)\n"
     ]
    }
   ],
   "source": [
    "print(x_train.shape)\n",
    "print(y_train.shape)\n",
    "print(x_test.shape)\n",
    "print(y_test.shape)"
   ]
  },
  {
   "cell_type": "markdown",
   "metadata": {},
   "source": [
    "# MODEL 1: COUNT VECTORIZER"
   ]
  },
  {
   "cell_type": "code",
   "execution_count": 24,
   "metadata": {},
   "outputs": [],
   "source": [
    "cvec = CountVectorizer(stop_words='english', \n",
    "                       lowercase=True, \n",
    "                       ngram_range=(1,2),\n",
    "                       strip_accents='unicode',\n",
    "                      )"
   ]
  },
  {
   "cell_type": "code",
   "execution_count": 25,
   "metadata": {},
   "outputs": [
    {
     "data": {
      "text/plain": [
       "<1528x186967 sparse matrix of type '<class 'numpy.int64'>'\n",
       "\twith 381123 stored elements in Compressed Sparse Row format>"
      ]
     },
     "execution_count": 25,
     "metadata": {},
     "output_type": "execute_result"
    }
   ],
   "source": [
    "train_data_features2 = cvec.fit_transform(x_train.apply(lambda x: np.str_(x)))\n",
    "\n",
    "train_data_features2"
   ]
  },
  {
   "cell_type": "code",
   "execution_count": 26,
   "metadata": {},
   "outputs": [
    {
     "data": {
      "text/html": [
       "<div>\n",
       "<style scoped>\n",
       "    .dataframe tbody tr th:only-of-type {\n",
       "        vertical-align: middle;\n",
       "    }\n",
       "\n",
       "    .dataframe tbody tr th {\n",
       "        vertical-align: top;\n",
       "    }\n",
       "\n",
       "    .dataframe thead th {\n",
       "        text-align: right;\n",
       "    }\n",
       "</style>\n",
       "<table border=\"1\" class=\"dataframe\">\n",
       "  <thead>\n",
       "    <tr style=\"text-align: right;\">\n",
       "      <th></th>\n",
       "      <th>aaaaall</th>\n",
       "      <th>aaaaall chose</th>\n",
       "      <th>aaaasndnsncjfmdks</th>\n",
       "      <th>aaaasndnsncjfmdks hate</th>\n",
       "      <th>aaand</th>\n",
       "      <th>aaand ask</th>\n",
       "      <th>aaeq</th>\n",
       "      <th>aaeq fun</th>\n",
       "      <th>aand</th>\n",
       "      <th>aand cutting</th>\n",
       "      <th>...</th>\n",
       "      <th>zoom thing</th>\n",
       "      <th>zoos</th>\n",
       "      <th>zoos decided</th>\n",
       "      <th>zu</th>\n",
       "      <th>zu schnauzer</th>\n",
       "      <th>zurich</th>\n",
       "      <th>zurich drinks</th>\n",
       "      <th>zuynht</th>\n",
       "      <th>zz</th>\n",
       "      <th>zz xxxxx</th>\n",
       "    </tr>\n",
       "  </thead>\n",
       "  <tbody>\n",
       "    <tr>\n",
       "      <th>0</th>\n",
       "      <td>0</td>\n",
       "      <td>0</td>\n",
       "      <td>0</td>\n",
       "      <td>0</td>\n",
       "      <td>0</td>\n",
       "      <td>0</td>\n",
       "      <td>0</td>\n",
       "      <td>0</td>\n",
       "      <td>0</td>\n",
       "      <td>0</td>\n",
       "      <td>...</td>\n",
       "      <td>0</td>\n",
       "      <td>0</td>\n",
       "      <td>0</td>\n",
       "      <td>0</td>\n",
       "      <td>0</td>\n",
       "      <td>0</td>\n",
       "      <td>0</td>\n",
       "      <td>0</td>\n",
       "      <td>0</td>\n",
       "      <td>0</td>\n",
       "    </tr>\n",
       "    <tr>\n",
       "      <th>1</th>\n",
       "      <td>0</td>\n",
       "      <td>0</td>\n",
       "      <td>0</td>\n",
       "      <td>0</td>\n",
       "      <td>0</td>\n",
       "      <td>0</td>\n",
       "      <td>0</td>\n",
       "      <td>0</td>\n",
       "      <td>0</td>\n",
       "      <td>0</td>\n",
       "      <td>...</td>\n",
       "      <td>0</td>\n",
       "      <td>0</td>\n",
       "      <td>0</td>\n",
       "      <td>0</td>\n",
       "      <td>0</td>\n",
       "      <td>0</td>\n",
       "      <td>0</td>\n",
       "      <td>0</td>\n",
       "      <td>0</td>\n",
       "      <td>0</td>\n",
       "    </tr>\n",
       "  </tbody>\n",
       "</table>\n",
       "<p>2 rows × 186967 columns</p>\n",
       "</div>"
      ],
      "text/plain": [
       "   aaaaall  aaaaall chose  aaaasndnsncjfmdks  aaaasndnsncjfmdks hate  aaand  \\\n",
       "0        0              0                  0                       0      0   \n",
       "1        0              0                  0                       0      0   \n",
       "\n",
       "   aaand ask  aaeq  aaeq fun  aand  aand cutting  ...  zoom thing  zoos  \\\n",
       "0          0     0         0     0             0  ...           0     0   \n",
       "1          0     0         0     0             0  ...           0     0   \n",
       "\n",
       "   zoos decided  zu  zu schnauzer  zurich  zurich drinks  zuynht  zz  zz xxxxx  \n",
       "0             0   0             0       0              0       0   0         0  \n",
       "1             0   0             0       0              0       0   0         0  \n",
       "\n",
       "[2 rows x 186967 columns]"
      ]
     },
     "execution_count": 26,
     "metadata": {},
     "output_type": "execute_result"
    }
   ],
   "source": [
    "train_data_features2.todense()\n",
    "\n",
    "df_cv = pd.DataFrame(train_data_features2.todense(), columns=cvec.get_feature_names())\n",
    "\n",
    "df_cv.head(2)"
   ]
  },
  {
   "cell_type": "code",
   "execution_count": 27,
   "metadata": {},
   "outputs": [],
   "source": [
    "Z_train = df_cv.copy()\n",
    "#Making a copy for the Bayes Classifier later."
   ]
  },
  {
   "cell_type": "code",
   "execution_count": 28,
   "metadata": {},
   "outputs": [],
   "source": [
    "test_data_features2 = cvec.transform(x_test.apply(lambda x: np.str_(x)))"
   ]
  },
  {
   "cell_type": "code",
   "execution_count": 29,
   "metadata": {},
   "outputs": [
    {
     "data": {
      "text/html": [
       "<div>\n",
       "<style scoped>\n",
       "    .dataframe tbody tr th:only-of-type {\n",
       "        vertical-align: middle;\n",
       "    }\n",
       "\n",
       "    .dataframe tbody tr th {\n",
       "        vertical-align: top;\n",
       "    }\n",
       "\n",
       "    .dataframe thead th {\n",
       "        text-align: right;\n",
       "    }\n",
       "</style>\n",
       "<table border=\"1\" class=\"dataframe\">\n",
       "  <thead>\n",
       "    <tr style=\"text-align: right;\">\n",
       "      <th></th>\n",
       "      <th>aaaaall</th>\n",
       "      <th>aaaaall chose</th>\n",
       "      <th>aaaasndnsncjfmdks</th>\n",
       "      <th>aaaasndnsncjfmdks hate</th>\n",
       "      <th>aaand</th>\n",
       "      <th>aaand ask</th>\n",
       "      <th>aaeq</th>\n",
       "      <th>aaeq fun</th>\n",
       "      <th>aand</th>\n",
       "      <th>aand cutting</th>\n",
       "      <th>...</th>\n",
       "      <th>zoom thing</th>\n",
       "      <th>zoos</th>\n",
       "      <th>zoos decided</th>\n",
       "      <th>zu</th>\n",
       "      <th>zu schnauzer</th>\n",
       "      <th>zurich</th>\n",
       "      <th>zurich drinks</th>\n",
       "      <th>zuynht</th>\n",
       "      <th>zz</th>\n",
       "      <th>zz xxxxx</th>\n",
       "    </tr>\n",
       "  </thead>\n",
       "  <tbody>\n",
       "    <tr>\n",
       "      <th>0</th>\n",
       "      <td>0</td>\n",
       "      <td>0</td>\n",
       "      <td>0</td>\n",
       "      <td>0</td>\n",
       "      <td>0</td>\n",
       "      <td>0</td>\n",
       "      <td>0</td>\n",
       "      <td>0</td>\n",
       "      <td>0</td>\n",
       "      <td>0</td>\n",
       "      <td>...</td>\n",
       "      <td>0</td>\n",
       "      <td>0</td>\n",
       "      <td>0</td>\n",
       "      <td>0</td>\n",
       "      <td>0</td>\n",
       "      <td>0</td>\n",
       "      <td>0</td>\n",
       "      <td>0</td>\n",
       "      <td>0</td>\n",
       "      <td>0</td>\n",
       "    </tr>\n",
       "    <tr>\n",
       "      <th>1</th>\n",
       "      <td>0</td>\n",
       "      <td>0</td>\n",
       "      <td>0</td>\n",
       "      <td>0</td>\n",
       "      <td>0</td>\n",
       "      <td>0</td>\n",
       "      <td>0</td>\n",
       "      <td>0</td>\n",
       "      <td>0</td>\n",
       "      <td>0</td>\n",
       "      <td>...</td>\n",
       "      <td>0</td>\n",
       "      <td>0</td>\n",
       "      <td>0</td>\n",
       "      <td>0</td>\n",
       "      <td>0</td>\n",
       "      <td>0</td>\n",
       "      <td>0</td>\n",
       "      <td>0</td>\n",
       "      <td>0</td>\n",
       "      <td>0</td>\n",
       "    </tr>\n",
       "    <tr>\n",
       "      <th>2</th>\n",
       "      <td>0</td>\n",
       "      <td>0</td>\n",
       "      <td>0</td>\n",
       "      <td>0</td>\n",
       "      <td>0</td>\n",
       "      <td>0</td>\n",
       "      <td>0</td>\n",
       "      <td>0</td>\n",
       "      <td>0</td>\n",
       "      <td>0</td>\n",
       "      <td>...</td>\n",
       "      <td>0</td>\n",
       "      <td>0</td>\n",
       "      <td>0</td>\n",
       "      <td>0</td>\n",
       "      <td>0</td>\n",
       "      <td>0</td>\n",
       "      <td>0</td>\n",
       "      <td>0</td>\n",
       "      <td>0</td>\n",
       "      <td>0</td>\n",
       "    </tr>\n",
       "    <tr>\n",
       "      <th>3</th>\n",
       "      <td>0</td>\n",
       "      <td>0</td>\n",
       "      <td>0</td>\n",
       "      <td>0</td>\n",
       "      <td>0</td>\n",
       "      <td>0</td>\n",
       "      <td>0</td>\n",
       "      <td>0</td>\n",
       "      <td>0</td>\n",
       "      <td>0</td>\n",
       "      <td>...</td>\n",
       "      <td>0</td>\n",
       "      <td>0</td>\n",
       "      <td>0</td>\n",
       "      <td>0</td>\n",
       "      <td>0</td>\n",
       "      <td>0</td>\n",
       "      <td>0</td>\n",
       "      <td>0</td>\n",
       "      <td>0</td>\n",
       "      <td>0</td>\n",
       "    </tr>\n",
       "    <tr>\n",
       "      <th>4</th>\n",
       "      <td>0</td>\n",
       "      <td>0</td>\n",
       "      <td>0</td>\n",
       "      <td>0</td>\n",
       "      <td>0</td>\n",
       "      <td>0</td>\n",
       "      <td>0</td>\n",
       "      <td>0</td>\n",
       "      <td>0</td>\n",
       "      <td>0</td>\n",
       "      <td>...</td>\n",
       "      <td>0</td>\n",
       "      <td>0</td>\n",
       "      <td>0</td>\n",
       "      <td>0</td>\n",
       "      <td>0</td>\n",
       "      <td>0</td>\n",
       "      <td>0</td>\n",
       "      <td>0</td>\n",
       "      <td>0</td>\n",
       "      <td>0</td>\n",
       "    </tr>\n",
       "  </tbody>\n",
       "</table>\n",
       "<p>5 rows × 186967 columns</p>\n",
       "</div>"
      ],
      "text/plain": [
       "   aaaaall  aaaaall chose  aaaasndnsncjfmdks  aaaasndnsncjfmdks hate  aaand  \\\n",
       "0        0              0                  0                       0      0   \n",
       "1        0              0                  0                       0      0   \n",
       "2        0              0                  0                       0      0   \n",
       "3        0              0                  0                       0      0   \n",
       "4        0              0                  0                       0      0   \n",
       "\n",
       "   aaand ask  aaeq  aaeq fun  aand  aand cutting  ...  zoom thing  zoos  \\\n",
       "0          0     0         0     0             0  ...           0     0   \n",
       "1          0     0         0     0             0  ...           0     0   \n",
       "2          0     0         0     0             0  ...           0     0   \n",
       "3          0     0         0     0             0  ...           0     0   \n",
       "4          0     0         0     0             0  ...           0     0   \n",
       "\n",
       "   zoos decided  zu  zu schnauzer  zurich  zurich drinks  zuynht  zz  zz xxxxx  \n",
       "0             0   0             0       0              0       0   0         0  \n",
       "1             0   0             0       0              0       0   0         0  \n",
       "2             0   0             0       0              0       0   0         0  \n",
       "3             0   0             0       0              0       0   0         0  \n",
       "4             0   0             0       0              0       0   0         0  \n",
       "\n",
       "[5 rows x 186967 columns]"
      ]
     },
     "execution_count": 29,
     "metadata": {},
     "output_type": "execute_result"
    }
   ],
   "source": [
    "test_data_features2.todense()\n",
    "\n",
    "Z_test = pd.DataFrame(test_data_features2.todense(), columns=cvec.get_feature_names())\n",
    "\n",
    "Z_test.head()"
   ]
  },
  {
   "cell_type": "code",
   "execution_count": 30,
   "metadata": {},
   "outputs": [
    {
     "name": "stderr",
     "output_type": "stream",
     "text": [
      "/anaconda3/lib/python3.6/site-packages/sklearn/linear_model/logistic.py:433: FutureWarning: Default solver will be changed to 'lbfgs' in 0.22. Specify a solver to silence this warning.\n",
      "  FutureWarning)\n"
     ]
    },
    {
     "data": {
      "text/plain": [
       "LogisticRegression(C=1.0, class_weight=None, dual=False, fit_intercept=True,\n",
       "          intercept_scaling=1, max_iter=100, multi_class='warn',\n",
       "          n_jobs=None, penalty='l2', random_state=None, solver='warn',\n",
       "          tol=0.0001, verbose=0, warm_start=False)"
      ]
     },
     "execution_count": 30,
     "metadata": {},
     "output_type": "execute_result"
    }
   ],
   "source": [
    "log_reg = LogisticRegression()\n",
    "log_reg.fit(train_data_features2, y_train)"
   ]
  },
  {
   "cell_type": "code",
   "execution_count": 31,
   "metadata": {},
   "outputs": [
    {
     "name": "stdout",
     "output_type": "stream",
     "text": [
      "1.0\n",
      "0.887434554973822\n"
     ]
    }
   ],
   "source": [
    "print(log_reg.score(train_data_features2, y_train))\n",
    "print(log_reg.score(test_data_features2, y_test))"
   ]
  },
  {
   "cell_type": "code",
   "execution_count": 32,
   "metadata": {},
   "outputs": [
    {
     "data": {
      "text/plain": [
       "just       2959\n",
       "like       1858\n",
       "time       1504\n",
       "know       1288\n",
       "don        1279\n",
       "didn       1264\n",
       "said       1252\n",
       "food       1216\n",
       "order      1181\n",
       "got        1104\n",
       "manager    1084\n",
       "people     1030\n",
       "told        999\n",
       "table       936\n",
       "ve          904\n",
       "really      852\n",
       "want        848\n",
       "went        842\n",
       "did         830\n",
       "work        825\n",
       "dtype: int64"
      ]
     },
     "execution_count": 32,
     "metadata": {},
     "output_type": "execute_result"
    }
   ],
   "source": [
    "word_count = df_cv.sum(axis=0)\n",
    "word_count.sort_values(ascending=False).head(20)"
   ]
  },
  {
   "cell_type": "code",
   "execution_count": 33,
   "metadata": {},
   "outputs": [],
   "source": [
    "df_cv['target'] = y_train"
   ]
  },
  {
   "cell_type": "code",
   "execution_count": 52,
   "metadata": {},
   "outputs": [],
   "source": [
    "wc = df_cv.groupby(['target']).sum(axis=0)\n",
    "#Counting word frequency between the two different subreddits"
   ]
  },
  {
   "cell_type": "code",
   "execution_count": 53,
   "metadata": {},
   "outputs": [],
   "source": [
    "df_server_freq = wc.iloc[:1, :]\n",
    "df_customer_freq = wc.iloc[1:, :]\n",
    "\n",
    "df_server_words = df_server_freq.sum(axis=0)\n",
    "s_sort = df_server_words.sort_values(ascending=False).head(20)\n",
    "\n",
    "df_customer_words = df_customer_freq.sum(axis=0)\n",
    "c_sort = df_customer_words.sort_values(ascending=False).head(20)\n",
    "\n",
    "most_common_words1 = pd.DataFrame(s_sort).reset_index()\n",
    "most_common_words2 = pd.DataFrame(c_sort).reset_index()"
   ]
  },
  {
   "cell_type": "code",
   "execution_count": 54,
   "metadata": {},
   "outputs": [],
   "source": [
    "most_common_words = pd.merge(most_common_words1, most_common_words2, on='index')"
   ]
  },
  {
   "cell_type": "code",
   "execution_count": 55,
   "metadata": {},
   "outputs": [],
   "source": [
    "most_common_words = most_common_words.rename(columns={'index': 'words', '0_x': 'server', '0_y': 'customer'})"
   ]
  },
  {
   "cell_type": "code",
   "execution_count": 56,
   "metadata": {},
   "outputs": [
    {
     "data": {
      "text/html": [
       "<div>\n",
       "<style scoped>\n",
       "    .dataframe tbody tr th:only-of-type {\n",
       "        vertical-align: middle;\n",
       "    }\n",
       "\n",
       "    .dataframe tbody tr th {\n",
       "        vertical-align: top;\n",
       "    }\n",
       "\n",
       "    .dataframe thead th {\n",
       "        text-align: right;\n",
       "    }\n",
       "</style>\n",
       "<table border=\"1\" class=\"dataframe\">\n",
       "  <thead>\n",
       "    <tr style=\"text-align: right;\">\n",
       "      <th></th>\n",
       "      <th>words</th>\n",
       "      <th>server</th>\n",
       "      <th>customer</th>\n",
       "    </tr>\n",
       "  </thead>\n",
       "  <tbody>\n",
       "    <tr>\n",
       "      <th>0</th>\n",
       "      <td>just</td>\n",
       "      <td>1489</td>\n",
       "      <td>833</td>\n",
       "    </tr>\n",
       "    <tr>\n",
       "      <th>1</th>\n",
       "      <td>like</td>\n",
       "      <td>908</td>\n",
       "      <td>555</td>\n",
       "    </tr>\n",
       "    <tr>\n",
       "      <th>2</th>\n",
       "      <td>time</td>\n",
       "      <td>741</td>\n",
       "      <td>450</td>\n",
       "    </tr>\n",
       "    <tr>\n",
       "      <th>3</th>\n",
       "      <td>said</td>\n",
       "      <td>635</td>\n",
       "      <td>345</td>\n",
       "    </tr>\n",
       "    <tr>\n",
       "      <th>4</th>\n",
       "      <td>didn</td>\n",
       "      <td>630</td>\n",
       "      <td>371</td>\n",
       "    </tr>\n",
       "    <tr>\n",
       "      <th>5</th>\n",
       "      <td>don</td>\n",
       "      <td>630</td>\n",
       "      <td>377</td>\n",
       "    </tr>\n",
       "    <tr>\n",
       "      <th>6</th>\n",
       "      <td>know</td>\n",
       "      <td>622</td>\n",
       "      <td>372</td>\n",
       "    </tr>\n",
       "    <tr>\n",
       "      <th>7</th>\n",
       "      <td>food</td>\n",
       "      <td>619</td>\n",
       "      <td>345</td>\n",
       "    </tr>\n",
       "    <tr>\n",
       "      <th>8</th>\n",
       "      <td>order</td>\n",
       "      <td>597</td>\n",
       "      <td>334</td>\n",
       "    </tr>\n",
       "    <tr>\n",
       "      <th>9</th>\n",
       "      <td>got</td>\n",
       "      <td>552</td>\n",
       "      <td>325</td>\n",
       "    </tr>\n",
       "    <tr>\n",
       "      <th>10</th>\n",
       "      <td>people</td>\n",
       "      <td>551</td>\n",
       "      <td>261</td>\n",
       "    </tr>\n",
       "    <tr>\n",
       "      <th>11</th>\n",
       "      <td>manager</td>\n",
       "      <td>549</td>\n",
       "      <td>324</td>\n",
       "    </tr>\n",
       "    <tr>\n",
       "      <th>12</th>\n",
       "      <td>told</td>\n",
       "      <td>497</td>\n",
       "      <td>277</td>\n",
       "    </tr>\n",
       "    <tr>\n",
       "      <th>13</th>\n",
       "      <td>table</td>\n",
       "      <td>478</td>\n",
       "      <td>265</td>\n",
       "    </tr>\n",
       "    <tr>\n",
       "      <th>14</th>\n",
       "      <td>really</td>\n",
       "      <td>446</td>\n",
       "      <td>225</td>\n",
       "    </tr>\n",
       "    <tr>\n",
       "      <th>15</th>\n",
       "      <td>want</td>\n",
       "      <td>438</td>\n",
       "      <td>235</td>\n",
       "    </tr>\n",
       "    <tr>\n",
       "      <th>16</th>\n",
       "      <td>went</td>\n",
       "      <td>432</td>\n",
       "      <td>240</td>\n",
       "    </tr>\n",
       "    <tr>\n",
       "      <th>17</th>\n",
       "      <td>ve</td>\n",
       "      <td>422</td>\n",
       "      <td>282</td>\n",
       "    </tr>\n",
       "  </tbody>\n",
       "</table>\n",
       "</div>"
      ],
      "text/plain": [
       "      words  server  customer\n",
       "0      just    1489       833\n",
       "1      like     908       555\n",
       "2      time     741       450\n",
       "3      said     635       345\n",
       "4      didn     630       371\n",
       "5       don     630       377\n",
       "6      know     622       372\n",
       "7      food     619       345\n",
       "8     order     597       334\n",
       "9       got     552       325\n",
       "10   people     551       261\n",
       "11  manager     549       324\n",
       "12     told     497       277\n",
       "13    table     478       265\n",
       "14   really     446       225\n",
       "15     want     438       235\n",
       "16     went     432       240\n",
       "17       ve     422       282"
      ]
     },
     "execution_count": 56,
     "metadata": {},
     "output_type": "execute_result"
    }
   ],
   "source": [
    "most_common_words"
   ]
  },
  {
   "cell_type": "code",
   "execution_count": 57,
   "metadata": {},
   "outputs": [
    {
     "data": {
      "application/javascript": [
       "var spec = {\"config\": {\"view\": {\"width\": 400, \"height\": 300}}, \"hconcat\": [{\"data\": {\"name\": \"data-ebcb520a935040f24622e2d6e57ec0b7\"}, \"mark\": {\"type\": \"bar\", \"color\": \"darkred\"}, \"encoding\": {\"x\": {\"type\": \"quantitative\", \"field\": \"customer\"}, \"y\": {\"type\": \"nominal\", \"field\": \"words\"}}}, {\"data\": {\"name\": \"data-ebcb520a935040f24622e2d6e57ec0b7\"}, \"mark\": {\"type\": \"bar\", \"color\": \"red\"}, \"encoding\": {\"x\": {\"type\": \"quantitative\", \"field\": \"server\"}, \"y\": {\"type\": \"nominal\", \"field\": \"words\"}}}], \"$schema\": \"https://vega.github.io/schema/vega-lite/v2.6.0.json\", \"datasets\": {\"data-ebcb520a935040f24622e2d6e57ec0b7\": [{\"words\": \"just\", \"server\": 1489, \"customer\": 833}, {\"words\": \"like\", \"server\": 908, \"customer\": 555}, {\"words\": \"time\", \"server\": 741, \"customer\": 450}, {\"words\": \"said\", \"server\": 635, \"customer\": 345}, {\"words\": \"didn\", \"server\": 630, \"customer\": 371}, {\"words\": \"don\", \"server\": 630, \"customer\": 377}, {\"words\": \"know\", \"server\": 622, \"customer\": 372}, {\"words\": \"food\", \"server\": 619, \"customer\": 345}, {\"words\": \"order\", \"server\": 597, \"customer\": 334}, {\"words\": \"got\", \"server\": 552, \"customer\": 325}, {\"words\": \"people\", \"server\": 551, \"customer\": 261}, {\"words\": \"manager\", \"server\": 549, \"customer\": 324}, {\"words\": \"told\", \"server\": 497, \"customer\": 277}, {\"words\": \"table\", \"server\": 478, \"customer\": 265}, {\"words\": \"really\", \"server\": 446, \"customer\": 225}, {\"words\": \"want\", \"server\": 438, \"customer\": 235}, {\"words\": \"went\", \"server\": 432, \"customer\": 240}, {\"words\": \"ve\", \"server\": 422, \"customer\": 282}]}};\n",
       "var opt = {};\n",
       "var type = \"vega-lite\";\n",
       "var id = \"28b2912e-d430-40d3-b4a4-85dfa68a44bc\";\n",
       "\n",
       "var output_area = this;\n",
       "\n",
       "require([\"nbextensions/jupyter-vega/index\"], function(vega) {\n",
       "  var target = document.createElement(\"div\");\n",
       "  target.id = id;\n",
       "  target.className = \"vega-embed\";\n",
       "\n",
       "  var style = document.createElement(\"style\");\n",
       "  style.textContent = [\n",
       "    \".vega-embed .error p {\",\n",
       "    \"  color: firebrick;\",\n",
       "    \"  font-size: 14px;\",\n",
       "    \"}\",\n",
       "  ].join(\"\\\\n\");\n",
       "\n",
       "  // element is a jQuery wrapped DOM element inside the output area\n",
       "  // see http://ipython.readthedocs.io/en/stable/api/generated/\\\n",
       "  // IPython.display.html#IPython.display.Javascript.__init__\n",
       "  element[0].appendChild(target);\n",
       "  element[0].appendChild(style);\n",
       "\n",
       "  vega.render(\"#\" + id, spec, type, opt, output_area);\n",
       "}, function (err) {\n",
       "  if (err.requireType !== \"scripterror\") {\n",
       "    throw(err);\n",
       "  }\n",
       "});\n"
      ],
      "text/plain": [
       "<vega.vegalite.VegaLite at 0x1d22f91198>"
      ]
     },
     "metadata": {
      "jupyter-vega": "#28b2912e-d430-40d3-b4a4-85dfa68a44bc"
     },
     "output_type": "display_data"
    },
    {
     "data": {
      "text/plain": []
     },
     "execution_count": 57,
     "metadata": {},
     "output_type": "execute_result"
    },
    {
     "data": {
      "image/png": "[encoded data removed]"
     },
     "metadata": {
      "jupyter-vega": "#28b2912e-d430-40d3-b4a4-85dfa68a44bc"
     },
     "output_type": "display_data"
    }
   ],
   "source": [
    "\n",
    "Chart_A = alt.Chart(most_common_words).mark_bar(color='darkred').encode(\n",
    "    x='customer',\n",
    "    y='words'\n",
    ")\n",
    "\n",
    "Chart_B = alt.Chart(most_common_words).mark_bar(color='red').encode(\n",
    "    x='server',\n",
    "    y='words'\n",
    ")\n",
    "\n",
    "alt.hconcat(Chart_A, Chart_B)"
   ]
  },
  {
   "cell_type": "markdown",
   "metadata": {},
   "source": [
    "These visualizations are very telling. It is interesting that they have the same shape, but the scale on the server chart (on the right) is much higher. Of the 20 most frequently used words, 18 were present in both target sets. \"Work\" is one of the words that is in the top 20 most common for 'TalesFromYourServer' and not in 'TalesFromTheCustomer'. I would assume that the reason for these similar shapes, but larger scale on the 'TalesFromYourServer', is probably due to the fact that that sub-reddit is dedicated solely to the restaurant service industry and those who work in it. While 'TalesFromTheCustomer' is a majority customers at restaurants, there do exist a fair number of other various service industries that these posters are writing about. I would assume that if this sub-reddit was dedicated solely to customers at restaurants and bars, the scales would be much more similar. \n",
    "\n",
    "If I were to re-do this section, I would add stopwords, in addition to the ones already in the Count Vectorizer. Words, such as \"want\", \"went\" and \"did\" should be filtered out."
   ]
  },
  {
   "cell_type": "markdown",
   "metadata": {},
   "source": [
    "# MODEL 2: TF-IDF"
   ]
  },
  {
   "cell_type": "code",
   "execution_count": null,
   "metadata": {},
   "outputs": [],
   "source": [
    "# tvec = TfidfVectorizer(stop_words='english')\n",
    "# train_data_tfid = tvec.fit_transform(x_train.apply(lambda x: np.str_(x)))\n",
    "\n",
    "# test_data_tfid = tvec.transform(x_test.apply(lambda x: np.str_(x)))\n",
    "\n",
    "# model = LogisticRegression()\n",
    "# model.fit(train_data_tfid, y_train)\n",
    "\n",
    "# print(model.score(train_data_tfid, y_train))\n",
    "# print(model.score(test_data_tfid, y_test))"
   ]
  },
  {
   "cell_type": "markdown",
   "metadata": {},
   "source": [
    "After doing different models, the TF-IDF had the best score. Thus, I am placing the TF-IDF model in a pipeline for future use."
   ]
  },
  {
   "cell_type": "code",
   "execution_count": 36,
   "metadata": {},
   "outputs": [
    {
     "name": "stdout",
     "output_type": "stream",
     "text": [
      "0.8979057591623036\n"
     ]
    }
   ],
   "source": [
    "pipe = make_pipeline(TfidfVectorizer(stop_words=\"english\",\n",
    "                                     max_features=1000,\n",
    "                                    ngram_range=(1,5)),\n",
    "                      LogisticRegression(),\n",
    "                     ) #If the cleaning/tokenizing occurred after the train test split, I would include this step in the pipeline.\n",
    "\n",
    "pipe.fit(x_train, y_train)\n",
    "predictions = pipe.predict(x_test)\n",
    "print(accuracy_score(y_test, predictions))"
   ]
  },
  {
   "cell_type": "markdown",
   "metadata": {},
   "source": [
    "# MODEL 3: NAIVE BAYES"
   ]
  },
  {
   "cell_type": "code",
   "execution_count": 37,
   "metadata": {},
   "outputs": [
    {
     "data": {
      "text/html": [
       "<div>\n",
       "<style scoped>\n",
       "    .dataframe tbody tr th:only-of-type {\n",
       "        vertical-align: middle;\n",
       "    }\n",
       "\n",
       "    .dataframe tbody tr th {\n",
       "        vertical-align: top;\n",
       "    }\n",
       "\n",
       "    .dataframe thead th {\n",
       "        text-align: right;\n",
       "    }\n",
       "</style>\n",
       "<table border=\"1\" class=\"dataframe\">\n",
       "  <thead>\n",
       "    <tr style=\"text-align: right;\">\n",
       "      <th></th>\n",
       "      <th>aaaaall</th>\n",
       "      <th>aaaaall chose</th>\n",
       "      <th>aaaasndnsncjfmdks</th>\n",
       "      <th>aaaasndnsncjfmdks hate</th>\n",
       "      <th>aaand</th>\n",
       "      <th>aaand ask</th>\n",
       "      <th>aaeq</th>\n",
       "      <th>aaeq fun</th>\n",
       "      <th>aand</th>\n",
       "      <th>aand cutting</th>\n",
       "      <th>...</th>\n",
       "      <th>zoom thing</th>\n",
       "      <th>zoos</th>\n",
       "      <th>zoos decided</th>\n",
       "      <th>zu</th>\n",
       "      <th>zu schnauzer</th>\n",
       "      <th>zurich</th>\n",
       "      <th>zurich drinks</th>\n",
       "      <th>zuynht</th>\n",
       "      <th>zz</th>\n",
       "      <th>zz xxxxx</th>\n",
       "    </tr>\n",
       "  </thead>\n",
       "  <tbody>\n",
       "    <tr>\n",
       "      <th>0</th>\n",
       "      <td>0</td>\n",
       "      <td>0</td>\n",
       "      <td>0</td>\n",
       "      <td>0</td>\n",
       "      <td>0</td>\n",
       "      <td>0</td>\n",
       "      <td>0</td>\n",
       "      <td>0</td>\n",
       "      <td>0</td>\n",
       "      <td>0</td>\n",
       "      <td>...</td>\n",
       "      <td>0</td>\n",
       "      <td>0</td>\n",
       "      <td>0</td>\n",
       "      <td>0</td>\n",
       "      <td>0</td>\n",
       "      <td>0</td>\n",
       "      <td>0</td>\n",
       "      <td>0</td>\n",
       "      <td>0</td>\n",
       "      <td>0</td>\n",
       "    </tr>\n",
       "    <tr>\n",
       "      <th>1</th>\n",
       "      <td>0</td>\n",
       "      <td>0</td>\n",
       "      <td>0</td>\n",
       "      <td>0</td>\n",
       "      <td>0</td>\n",
       "      <td>0</td>\n",
       "      <td>0</td>\n",
       "      <td>0</td>\n",
       "      <td>0</td>\n",
       "      <td>0</td>\n",
       "      <td>...</td>\n",
       "      <td>0</td>\n",
       "      <td>0</td>\n",
       "      <td>0</td>\n",
       "      <td>0</td>\n",
       "      <td>0</td>\n",
       "      <td>0</td>\n",
       "      <td>0</td>\n",
       "      <td>0</td>\n",
       "      <td>0</td>\n",
       "      <td>0</td>\n",
       "    </tr>\n",
       "    <tr>\n",
       "      <th>2</th>\n",
       "      <td>0</td>\n",
       "      <td>0</td>\n",
       "      <td>0</td>\n",
       "      <td>0</td>\n",
       "      <td>0</td>\n",
       "      <td>0</td>\n",
       "      <td>0</td>\n",
       "      <td>0</td>\n",
       "      <td>0</td>\n",
       "      <td>0</td>\n",
       "      <td>...</td>\n",
       "      <td>0</td>\n",
       "      <td>0</td>\n",
       "      <td>0</td>\n",
       "      <td>0</td>\n",
       "      <td>0</td>\n",
       "      <td>0</td>\n",
       "      <td>0</td>\n",
       "      <td>0</td>\n",
       "      <td>0</td>\n",
       "      <td>0</td>\n",
       "    </tr>\n",
       "    <tr>\n",
       "      <th>3</th>\n",
       "      <td>0</td>\n",
       "      <td>0</td>\n",
       "      <td>0</td>\n",
       "      <td>0</td>\n",
       "      <td>0</td>\n",
       "      <td>0</td>\n",
       "      <td>0</td>\n",
       "      <td>0</td>\n",
       "      <td>0</td>\n",
       "      <td>0</td>\n",
       "      <td>...</td>\n",
       "      <td>0</td>\n",
       "      <td>0</td>\n",
       "      <td>0</td>\n",
       "      <td>0</td>\n",
       "      <td>0</td>\n",
       "      <td>0</td>\n",
       "      <td>0</td>\n",
       "      <td>0</td>\n",
       "      <td>0</td>\n",
       "      <td>0</td>\n",
       "    </tr>\n",
       "    <tr>\n",
       "      <th>4</th>\n",
       "      <td>0</td>\n",
       "      <td>0</td>\n",
       "      <td>0</td>\n",
       "      <td>0</td>\n",
       "      <td>0</td>\n",
       "      <td>0</td>\n",
       "      <td>0</td>\n",
       "      <td>0</td>\n",
       "      <td>0</td>\n",
       "      <td>0</td>\n",
       "      <td>...</td>\n",
       "      <td>0</td>\n",
       "      <td>0</td>\n",
       "      <td>0</td>\n",
       "      <td>0</td>\n",
       "      <td>0</td>\n",
       "      <td>0</td>\n",
       "      <td>0</td>\n",
       "      <td>0</td>\n",
       "      <td>0</td>\n",
       "      <td>0</td>\n",
       "    </tr>\n",
       "  </tbody>\n",
       "</table>\n",
       "<p>5 rows × 186967 columns</p>\n",
       "</div>"
      ],
      "text/plain": [
       "   aaaaall  aaaaall chose  aaaasndnsncjfmdks  aaaasndnsncjfmdks hate  aaand  \\\n",
       "0        0              0                  0                       0      0   \n",
       "1        0              0                  0                       0      0   \n",
       "2        0              0                  0                       0      0   \n",
       "3        0              0                  0                       0      0   \n",
       "4        0              0                  0                       0      0   \n",
       "\n",
       "   aaand ask  aaeq  aaeq fun  aand  aand cutting  ...  zoom thing  zoos  \\\n",
       "0          0     0         0     0             0  ...           0     0   \n",
       "1          0     0         0     0             0  ...           0     0   \n",
       "2          0     0         0     0             0  ...           0     0   \n",
       "3          0     0         0     0             0  ...           0     0   \n",
       "4          0     0         0     0             0  ...           0     0   \n",
       "\n",
       "   zoos decided  zu  zu schnauzer  zurich  zurich drinks  zuynht  zz  zz xxxxx  \n",
       "0             0   0             0       0              0       0   0         0  \n",
       "1             0   0             0       0              0       0   0         0  \n",
       "2             0   0             0       0              0       0   0         0  \n",
       "3             0   0             0       0              0       0   0         0  \n",
       "4             0   0             0       0              0       0   0         0  \n",
       "\n",
       "[5 rows x 186967 columns]"
      ]
     },
     "execution_count": 37,
     "metadata": {},
     "output_type": "execute_result"
    }
   ],
   "source": [
    "Z_train.head()"
   ]
  },
  {
   "cell_type": "code",
   "execution_count": 38,
   "metadata": {},
   "outputs": [],
   "source": [
    "model3 = MultinomialNB()"
   ]
  },
  {
   "cell_type": "code",
   "execution_count": 39,
   "metadata": {},
   "outputs": [
    {
     "data": {
      "text/plain": [
       "MultinomialNB(alpha=1.0, class_prior=None, fit_prior=True)"
      ]
     },
     "execution_count": 39,
     "metadata": {},
     "output_type": "execute_result"
    }
   ],
   "source": [
    "model3.fit(Z_train, y_train)"
   ]
  },
  {
   "cell_type": "code",
   "execution_count": 40,
   "metadata": {},
   "outputs": [],
   "source": [
    "predictions = model3.predict(Z_test)"
   ]
  },
  {
   "cell_type": "code",
   "execution_count": 41,
   "metadata": {},
   "outputs": [
    {
     "data": {
      "text/plain": [
       "0.8534031413612565"
      ]
     },
     "execution_count": 41,
     "metadata": {},
     "output_type": "execute_result"
    }
   ],
   "source": [
    "model3.score(Z_test, y_test)"
   ]
  },
  {
   "cell_type": "code",
   "execution_count": 42,
   "metadata": {},
   "outputs": [
    {
     "data": {
      "text/plain": [
       "array([[143,  45],\n",
       "       [ 11, 183]])"
      ]
     },
     "execution_count": 42,
     "metadata": {},
     "output_type": "execute_result"
    }
   ],
   "source": [
    "confusion_matrix(y_test, predictions)"
   ]
  },
  {
   "cell_type": "code",
   "execution_count": 43,
   "metadata": {},
   "outputs": [],
   "source": [
    "tn, fp, fn, tp = confusion_matrix(y_test, predictions).ravel()"
   ]
  },
  {
   "cell_type": "code",
   "execution_count": 44,
   "metadata": {},
   "outputs": [
    {
     "name": "stdout",
     "output_type": "stream",
     "text": [
      "True Negatives: 143\n",
      "False Positives: 45\n",
      "False Negatives: 11\n",
      "True Positives: 183\n"
     ]
    }
   ],
   "source": [
    "print(\"True Negatives: %s\" % tn)\n",
    "print(\"False Positives: %s\" % fp)\n",
    "print(\"False Negatives: %s\" % fn)\n",
    "print(\"True Positives: %s\" % tp)"
   ]
  },
  {
   "cell_type": "code",
   "execution_count": 45,
   "metadata": {},
   "outputs": [
    {
     "name": "stdout",
     "output_type": "stream",
     "text": [
      "0.8519686334722526\n"
     ]
    },
    {
     "data": {
      "image/png": "[encoded data removed]",
      "text/plain": [
       "<Figure size 432x288 with 1 Axes>"
      ]
     },
     "metadata": {
      "needs_background": "light"
     },
     "output_type": "display_data"
    }
   ],
   "source": [
    "from sklearn.metrics import roc_auc_score, roc_curve\n",
    "from matplotlib import pyplot\n",
    "\n",
    "auc = roc_auc_score(y_test, predictions)\n",
    "print(auc)\n",
    "\n",
    "fp, tp, thresholds = roc_curve(y_test, predictions)\n",
    "\n",
    "pyplot.plot([0, 1], [0, 1], linestyle='--', c='r')\n",
    "\n",
    "pyplot.plot(fp, tp, marker='*', c='k')\n",
    "pyplot.ylabel('True Positive Rate')\n",
    "pyplot.xlabel('False Positive Rate')\n",
    "pyplot.title('ROC-AUC SCORE')\n",
    "pyplot.show()"
   ]
  },
  {
   "cell_type": "markdown",
   "metadata": {},
   "source": [
    "# Future Predictions"
   ]
  },
  {
   "cell_type": "markdown",
   "metadata": {},
   "source": [
    "Now I will test my best model, the TF-IDF on a simulated new piece of data, randomly chosen from the test set."
   ]
  },
  {
   "cell_type": "code",
   "execution_count": 49,
   "metadata": {},
   "outputs": [
    {
     "data": {
      "text/plain": [
       "{1491: 'there are many stories i could tell which fit in this sub but this one is by far the most interesting one tldr at the bottom my mother owns a little shop which sells cute stuff and presents i also work there sometimes to help her and because we are living in a very small town in germany she knows many people there she made a friend let s call her sheila who always came to our shop sometimes just to chat so when sheila told us she owned a restaurant my mother wanted to surprise her by going there next week so my mom and me were both working in her shop then in our break at work from pm to pm lunch break she wanted to go to sheila s restaurant we both sat at the table as the waiter did not came at first he was standing behind the corner and played something on his mobile phone then as my mother had waited a few minutes and nobody but us was there she waved him over we both ordered noodles and waited so long for them that i had to go back to our store and had to put a sign on the door telling our customers that we were closed until pm which you can do in a little town like ours the food came and the waiter constantly stared at us my mother could not see it because she was sitting with her back to him but i did it was like he was staring at how we ate seriously i felt really uncomfortable he came back to the table every five minutes to check asking if we were ready although we clearly were not then the unthinkable happened we were indeed ready so my mother asked him if she could take the rest of the noodles home with her because our lunchbreak was over it s common here and he looked at her before he answered oh i think you ve had enough of that she stared at him excuse me i would like to take it with me if that is not possible that is okay and he just laughed and said look at yourself don t you think you have eaten enough already my mother is not really thin but she is also not fat or anything then he took the food away from us and did not come back we heared him laughing from the kitchen tldr waiter is playing something on his phone until we tell him to come to our table then stares at us while we are eating proceeds to ask if we are ready with our food and then tells my mother she should look at herself and that she has already eaten enough takes the food away and laughes his ass of'}"
      ]
     },
     "execution_count": 49,
     "metadata": {},
     "output_type": "execute_result"
    }
   ],
   "source": [
    "i = 2\n",
    "x_test.iloc[i : i + 1].to_dict()"
   ]
  },
  {
   "cell_type": "code",
   "execution_count": 50,
   "metadata": {},
   "outputs": [
    {
     "data": {
      "text/plain": [
       "1491    there are many stories i could tell which fit ...\n",
       "Name: selftext, dtype: object"
      ]
     },
     "execution_count": 50,
     "metadata": {},
     "output_type": "execute_result"
    }
   ],
   "source": [
    "new_data = pd.DataFrame(\n",
    "    [x_test.iloc[i : i + 1]])\n",
    "\n",
    "new_data = new_data.T\n",
    "\n",
    "new_data['selftext']"
   ]
  },
  {
   "cell_type": "code",
   "execution_count": 51,
   "metadata": {},
   "outputs": [
    {
     "data": {
      "text/plain": [
       "array([1])"
      ]
     },
     "execution_count": 51,
     "metadata": {},
     "output_type": "execute_result"
    }
   ],
   "source": [
    "pipe.predict(new_data['selftext'])"
   ]
  },
  {
   "cell_type": "markdown",
   "metadata": {},
   "source": [
    "The TF-IDF model accurately predicted that \"new data\" was classified as 1 (TalesFromTheCustomer)"
   ]
  },
  {
   "cell_type": "markdown",
   "metadata": {},
   "source": [
    "# Summary and Conclusion"
   ]
  },
  {
   "cell_type": "markdown",
   "metadata": {},
   "source": [
    "The best model was the TF-IDF with the Logistic Regression. While it did not score as high as the Count Vectorizer in the training data, it scored slightly better in the testing data, with .898. The accuracy of all three models is surprising, in that, the most frequently used word count for both subreddits included many similar words, and the topics, in and of themselves, are quite similar in objective. If I could re-do the project, I would spend more time on filtering out stop words. I assume that this could raise the score into the .90s. However, all models performed very well scoring between 84-90% margin on the test sets. "
   ]
  },
  {
   "cell_type": "code",
   "execution_count": null,
   "metadata": {},
   "outputs": [],
   "source": []
  }
 ],
 "metadata": {
  "kernelspec": {
   "display_name": "Python 3",
   "language": "python",
   "name": "python3"
  },
  "language_info": {
   "codemirror_mode": {
    "name": "ipython",
    "version": 3
   },
   "file_extension": ".py",
   "mimetype": "text/x-python",
   "name": "python",
   "nbconvert_exporter": "python",
   "pygments_lexer": "ipython3",
   "version": "3.6.8"
  }
 },
 "nbformat": 4,
 "nbformat_minor": 2
}
