{
 "cells": [
  {
   "cell_type": "markdown",
   "metadata": {},
   "source": [
    "# Scraping for Project 4"
   ]
  },
  {
   "cell_type": "markdown",
   "metadata": {},
   "source": [
    "The majority of this project will take place in the 'Project4_KGourlay' notebook, but I have used this notebook to do the scraping of the two sub-reddit groups: 'TalesFromTheServer' and 'TalesFromTheCustomer'. After scraping both sub-reddit pages, the data has been inspected and then concatenated into one Data Frame, which was then transformed into a CSV."
   ]
  },
  {
   "cell_type": "code",
   "execution_count": 1,
   "metadata": {},
   "outputs": [],
   "source": [
    "import datetime\n",
    "import pandas as pd\n",
    "import requests\n",
    "import time\n",
    "from bs4 import BeautifulSoup"
   ]
  },
  {
   "cell_type": "code",
   "execution_count": 2,
   "metadata": {},
   "outputs": [],
   "source": [
    "headers = {'User-Agent': 'My User Agent 1.0'}"
   ]
  },
  {
   "cell_type": "code",
   "execution_count": 3,
   "metadata": {},
   "outputs": [],
   "source": [
    "def fetch_page(url, after=''):\n",
    "    params = {'after': after}\n",
    "    response = requests.get(url, headers=headers, params=params)\n",
    "    return response.json()['data']['children']"
   ]
  },
  {
   "cell_type": "code",
   "execution_count": 4,
   "metadata": {},
   "outputs": [],
   "source": [
    "def parse_post(post):\n",
    "    keep = ['subreddit', 'title', 'selftext', 'downs', 'ups', 'num_comments', 'permalink', 'name', 'author'] \n",
    "    return {k:v for k, v in post['data'].items() if k in keep}"
   ]
  },
  {
   "cell_type": "code",
   "execution_count": 5,
   "metadata": {},
   "outputs": [],
   "source": [
    "def parse_page(page):\n",
    "    after = ''\n",
    "    posts = []\n",
    "    for post in page:\n",
    "        post = parse_post(post)\n",
    "        after = post['name']\n",
    "        posts.append(post)\n",
    "    return posts, after"
   ]
  },
  {
   "cell_type": "code",
   "execution_count": 6,
   "metadata": {},
   "outputs": [],
   "source": [
    "def fetch_subreddit(subreddit, pages=4):\n",
    "    url = f'https://www.reddit.com/r/{subreddit}.json'\n",
    "    after = ''\n",
    "    all_posts = []\n",
    "    for i in range(pages):\n",
    "        print(f'Fetching Page {i + 1}')\n",
    "        page = fetch_page(url, after)\n",
    "        posts, after = parse_page(page)\n",
    "        all_posts.extend(posts)\n",
    "        time.sleep(5)\n",
    "    return all_posts"
   ]
  },
  {
   "cell_type": "code",
   "execution_count": 7,
   "metadata": {},
   "outputs": [
    {
     "name": "stdout",
     "output_type": "stream",
     "text": [
      "Fetching Page 1\n",
      "Fetching Page 2\n",
      "Fetching Page 3\n",
      "Fetching Page 4\n",
      "Fetching Page 5\n",
      "Fetching Page 6\n",
      "Fetching Page 7\n",
      "Fetching Page 8\n",
      "Fetching Page 9\n",
      "Fetching Page 10\n",
      "Fetching Page 11\n",
      "Fetching Page 12\n",
      "Fetching Page 13\n",
      "Fetching Page 14\n",
      "Fetching Page 15\n",
      "Fetching Page 16\n",
      "Fetching Page 17\n",
      "Fetching Page 18\n",
      "Fetching Page 19\n",
      "Fetching Page 20\n",
      "Fetching Page 21\n",
      "Fetching Page 22\n",
      "Fetching Page 23\n",
      "Fetching Page 24\n",
      "Fetching Page 25\n",
      "Fetching Page 26\n",
      "Fetching Page 27\n",
      "Fetching Page 28\n",
      "Fetching Page 29\n",
      "Fetching Page 30\n",
      "Fetching Page 31\n",
      "Fetching Page 32\n",
      "Fetching Page 33\n",
      "Fetching Page 34\n",
      "Fetching Page 35\n",
      "Fetching Page 36\n",
      "Fetching Page 37\n",
      "Fetching Page 38\n",
      "Fetching Page 39\n",
      "Fetching Page 40\n"
     ]
    }
   ],
   "source": [
    "posts = fetch_subreddit('TalesFromYourServer', pages=40)"
   ]
  },
  {
   "cell_type": "code",
   "execution_count": 8,
   "metadata": {},
   "outputs": [],
   "source": [
    "server = pd.DataFrame(posts)"
   ]
  },
  {
   "cell_type": "code",
   "execution_count": 9,
   "metadata": {},
   "outputs": [
    {
     "data": {
      "text/html": [
       "<div>\n",
       "<style scoped>\n",
       "    .dataframe tbody tr th:only-of-type {\n",
       "        vertical-align: middle;\n",
       "    }\n",
       "\n",
       "    .dataframe tbody tr th {\n",
       "        vertical-align: top;\n",
       "    }\n",
       "\n",
       "    .dataframe thead th {\n",
       "        text-align: right;\n",
       "    }\n",
       "</style>\n",
       "<table border=\"1\" class=\"dataframe\">\n",
       "  <thead>\n",
       "    <tr style=\"text-align: right;\">\n",
       "      <th></th>\n",
       "      <th>author</th>\n",
       "      <th>downs</th>\n",
       "      <th>name</th>\n",
       "      <th>num_comments</th>\n",
       "      <th>permalink</th>\n",
       "      <th>selftext</th>\n",
       "      <th>subreddit</th>\n",
       "      <th>title</th>\n",
       "      <th>ups</th>\n",
       "    </tr>\n",
       "  </thead>\n",
       "  <tbody>\n",
       "    <tr>\n",
       "      <th>0</th>\n",
       "      <td>WalkinSteveHawkin</td>\n",
       "      <td>0</td>\n",
       "      <td>t3_at8kic</td>\n",
       "      <td>250</td>\n",
       "      <td>/r/TalesFromYourServer/comments/at8kic/dedicat...</td>\n",
       "      <td>Hi all,\\n\\n&amp;amp;#x200B;\\n\\nI realized our new ...</td>\n",
       "      <td>TalesFromYourServer</td>\n",
       "      <td>Dedicated thread for new server advice</td>\n",
       "      <td>113</td>\n",
       "    </tr>\n",
       "    <tr>\n",
       "      <th>1</th>\n",
       "      <td>BraskytheSOB</td>\n",
       "      <td>0</td>\n",
       "      <td>t3_bmkpp8</td>\n",
       "      <td>10</td>\n",
       "      <td>/r/TalesFromYourServer/comments/bmkpp8/im_a_so...</td>\n",
       "      <td>Short and sweet one today.  Prime steak house....</td>\n",
       "      <td>TalesFromYourServer</td>\n",
       "      <td>\"I'm a sommmelier\" woman orders house malbec. ...</td>\n",
       "      <td>110</td>\n",
       "    </tr>\n",
       "    <tr>\n",
       "      <th>2</th>\n",
       "      <td>heysharkdontdothat</td>\n",
       "      <td>0</td>\n",
       "      <td>t3_bmmo7x</td>\n",
       "      <td>3</td>\n",
       "      <td>/r/TalesFromYourServer/comments/bmmo7x/this_is...</td>\n",
       "      <td>Hey everyone. For anyone who had a rough night...</td>\n",
       "      <td>TalesFromYourServer</td>\n",
       "      <td>This is the story of the worst coworker to eve...</td>\n",
       "      <td>63</td>\n",
       "    </tr>\n",
       "    <tr>\n",
       "      <th>3</th>\n",
       "      <td>RookiePuck</td>\n",
       "      <td>0</td>\n",
       "      <td>t3_bmj1ss</td>\n",
       "      <td>17</td>\n",
       "      <td>/r/TalesFromYourServer/comments/bmj1ss/guy_tri...</td>\n",
       "      <td>Sorry this got long. So I work as a bar manage...</td>\n",
       "      <td>TalesFromYourServer</td>\n",
       "      <td>Guy tried to take back his tip</td>\n",
       "      <td>104</td>\n",
       "    </tr>\n",
       "    <tr>\n",
       "      <th>4</th>\n",
       "      <td>lindbulm</td>\n",
       "      <td>0</td>\n",
       "      <td>t3_bmn9sc</td>\n",
       "      <td>5</td>\n",
       "      <td>/r/TalesFromYourServer/comments/bmn9sc/yes_you...</td>\n",
       "      <td>I just cannot fathom why some people don't inc...</td>\n",
       "      <td>TalesFromYourServer</td>\n",
       "      <td>Yes, your children need to be counted in the r...</td>\n",
       "      <td>18</td>\n",
       "    </tr>\n",
       "  </tbody>\n",
       "</table>\n",
       "</div>"
      ],
      "text/plain": [
       "               author  downs       name  num_comments  \\\n",
       "0   WalkinSteveHawkin      0  t3_at8kic           250   \n",
       "1        BraskytheSOB      0  t3_bmkpp8            10   \n",
       "2  heysharkdontdothat      0  t3_bmmo7x             3   \n",
       "3          RookiePuck      0  t3_bmj1ss            17   \n",
       "4            lindbulm      0  t3_bmn9sc             5   \n",
       "\n",
       "                                           permalink  \\\n",
       "0  /r/TalesFromYourServer/comments/at8kic/dedicat...   \n",
       "1  /r/TalesFromYourServer/comments/bmkpp8/im_a_so...   \n",
       "2  /r/TalesFromYourServer/comments/bmmo7x/this_is...   \n",
       "3  /r/TalesFromYourServer/comments/bmj1ss/guy_tri...   \n",
       "4  /r/TalesFromYourServer/comments/bmn9sc/yes_you...   \n",
       "\n",
       "                                            selftext            subreddit  \\\n",
       "0  Hi all,\\n\\n&amp;#x200B;\\n\\nI realized our new ...  TalesFromYourServer   \n",
       "1  Short and sweet one today.  Prime steak house....  TalesFromYourServer   \n",
       "2  Hey everyone. For anyone who had a rough night...  TalesFromYourServer   \n",
       "3  Sorry this got long. So I work as a bar manage...  TalesFromYourServer   \n",
       "4  I just cannot fathom why some people don't inc...  TalesFromYourServer   \n",
       "\n",
       "                                               title  ups  \n",
       "0             Dedicated thread for new server advice  113  \n",
       "1  \"I'm a sommmelier\" woman orders house malbec. ...  110  \n",
       "2  This is the story of the worst coworker to eve...   63  \n",
       "3                     Guy tried to take back his tip  104  \n",
       "4  Yes, your children need to be counted in the r...   18  "
      ]
     },
     "execution_count": 9,
     "metadata": {},
     "output_type": "execute_result"
    }
   ],
   "source": [
    "server.head()"
   ]
  },
  {
   "cell_type": "code",
   "execution_count": 10,
   "metadata": {},
   "outputs": [
    {
     "data": {
      "text/plain": [
       "\"Hi all,\\n\\n&amp;#x200B;\\n\\nI realized our new server advice thread, which has tons of good advice and comments, has been archived, so new and veteran servers can't post questions/answers.  I got permission from the mods to post a new thread, so whether you're a new server with a specific/general question or a server who has some good advice, feel free to jump in!\\n\\n&amp;#x200B;\\n\\nThe [old thread can be found here](https://www.reddit.com/r/TalesFromYourServer/comments/8b1cnk/dedicated_thread_for_new_server_advice/) if anyone is interested.\""
      ]
     },
     "execution_count": 10,
     "metadata": {},
     "output_type": "execute_result"
    }
   ],
   "source": [
    "server['selftext'][0]"
   ]
  },
  {
   "cell_type": "code",
   "execution_count": 11,
   "metadata": {},
   "outputs": [
    {
     "data": {
      "text/html": [
       "<div>\n",
       "<style scoped>\n",
       "    .dataframe tbody tr th:only-of-type {\n",
       "        vertical-align: middle;\n",
       "    }\n",
       "\n",
       "    .dataframe tbody tr th {\n",
       "        vertical-align: top;\n",
       "    }\n",
       "\n",
       "    .dataframe thead th {\n",
       "        text-align: right;\n",
       "    }\n",
       "</style>\n",
       "<table border=\"1\" class=\"dataframe\">\n",
       "  <thead>\n",
       "    <tr style=\"text-align: right;\">\n",
       "      <th></th>\n",
       "      <th>downs</th>\n",
       "      <th>num_comments</th>\n",
       "      <th>ups</th>\n",
       "    </tr>\n",
       "  </thead>\n",
       "  <tbody>\n",
       "    <tr>\n",
       "      <th>count</th>\n",
       "      <td>981.0</td>\n",
       "      <td>981.000000</td>\n",
       "      <td>981.000000</td>\n",
       "    </tr>\n",
       "    <tr>\n",
       "      <th>mean</th>\n",
       "      <td>0.0</td>\n",
       "      <td>25.671764</td>\n",
       "      <td>266.567788</td>\n",
       "    </tr>\n",
       "    <tr>\n",
       "      <th>std</th>\n",
       "      <td>0.0</td>\n",
       "      <td>56.634690</td>\n",
       "      <td>736.970274</td>\n",
       "    </tr>\n",
       "    <tr>\n",
       "      <th>min</th>\n",
       "      <td>0.0</td>\n",
       "      <td>0.000000</td>\n",
       "      <td>0.000000</td>\n",
       "    </tr>\n",
       "    <tr>\n",
       "      <th>25%</th>\n",
       "      <td>0.0</td>\n",
       "      <td>4.000000</td>\n",
       "      <td>11.000000</td>\n",
       "    </tr>\n",
       "    <tr>\n",
       "      <th>50%</th>\n",
       "      <td>0.0</td>\n",
       "      <td>9.000000</td>\n",
       "      <td>29.000000</td>\n",
       "    </tr>\n",
       "    <tr>\n",
       "      <th>75%</th>\n",
       "      <td>0.0</td>\n",
       "      <td>20.000000</td>\n",
       "      <td>89.000000</td>\n",
       "    </tr>\n",
       "    <tr>\n",
       "      <th>max</th>\n",
       "      <td>0.0</td>\n",
       "      <td>611.000000</td>\n",
       "      <td>5779.000000</td>\n",
       "    </tr>\n",
       "  </tbody>\n",
       "</table>\n",
       "</div>"
      ],
      "text/plain": [
       "       downs  num_comments          ups\n",
       "count  981.0    981.000000   981.000000\n",
       "mean     0.0     25.671764   266.567788\n",
       "std      0.0     56.634690   736.970274\n",
       "min      0.0      0.000000     0.000000\n",
       "25%      0.0      4.000000    11.000000\n",
       "50%      0.0      9.000000    29.000000\n",
       "75%      0.0     20.000000    89.000000\n",
       "max      0.0    611.000000  5779.000000"
      ]
     },
     "execution_count": 11,
     "metadata": {},
     "output_type": "execute_result"
    }
   ],
   "source": [
    "server.describe()"
   ]
  },
  {
   "cell_type": "code",
   "execution_count": 12,
   "metadata": {},
   "outputs": [
    {
     "name": "stdout",
     "output_type": "stream",
     "text": [
      "<class 'pandas.core.frame.DataFrame'>\n",
      "RangeIndex: 981 entries, 0 to 980\n",
      "Data columns (total 9 columns):\n",
      "author          981 non-null object\n",
      "downs           981 non-null int64\n",
      "name            981 non-null object\n",
      "num_comments    981 non-null int64\n",
      "permalink       981 non-null object\n",
      "selftext        981 non-null object\n",
      "subreddit       981 non-null object\n",
      "title           981 non-null object\n",
      "ups             981 non-null int64\n",
      "dtypes: int64(3), object(6)\n",
      "memory usage: 69.1+ KB\n"
     ]
    }
   ],
   "source": [
    "server.info()"
   ]
  },
  {
   "cell_type": "code",
   "execution_count": 13,
   "metadata": {},
   "outputs": [
    {
     "data": {
      "text/plain": [
       "author          0\n",
       "downs           0\n",
       "name            0\n",
       "num_comments    0\n",
       "permalink       0\n",
       "selftext        0\n",
       "subreddit       0\n",
       "title           0\n",
       "ups             0\n",
       "dtype: int64"
      ]
     },
     "execution_count": 13,
     "metadata": {},
     "output_type": "execute_result"
    }
   ],
   "source": [
    "server.isna().sum()"
   ]
  },
  {
   "cell_type": "code",
   "execution_count": 14,
   "metadata": {},
   "outputs": [],
   "source": [
    "server['subreddit'] = 0"
   ]
  },
  {
   "cell_type": "code",
   "execution_count": 16,
   "metadata": {},
   "outputs": [
    {
     "name": "stdout",
     "output_type": "stream",
     "text": [
      "Fetching Page 1\n",
      "Fetching Page 2\n",
      "Fetching Page 3\n",
      "Fetching Page 4\n",
      "Fetching Page 5\n",
      "Fetching Page 6\n",
      "Fetching Page 7\n",
      "Fetching Page 8\n",
      "Fetching Page 9\n",
      "Fetching Page 10\n",
      "Fetching Page 11\n",
      "Fetching Page 12\n",
      "Fetching Page 13\n",
      "Fetching Page 14\n",
      "Fetching Page 15\n",
      "Fetching Page 16\n",
      "Fetching Page 17\n",
      "Fetching Page 18\n",
      "Fetching Page 19\n",
      "Fetching Page 20\n",
      "Fetching Page 21\n",
      "Fetching Page 22\n",
      "Fetching Page 23\n",
      "Fetching Page 24\n",
      "Fetching Page 25\n",
      "Fetching Page 26\n",
      "Fetching Page 27\n",
      "Fetching Page 28\n",
      "Fetching Page 29\n",
      "Fetching Page 30\n",
      "Fetching Page 31\n",
      "Fetching Page 32\n",
      "Fetching Page 33\n",
      "Fetching Page 34\n",
      "Fetching Page 35\n",
      "Fetching Page 36\n",
      "Fetching Page 37\n",
      "Fetching Page 38\n",
      "Fetching Page 39\n",
      "Fetching Page 40\n"
     ]
    }
   ],
   "source": [
    "posts2 = fetch_subreddit('TalesFromTheCustomer', pages=40)"
   ]
  },
  {
   "cell_type": "code",
   "execution_count": 17,
   "metadata": {},
   "outputs": [],
   "source": [
    "customer = pd.DataFrame(posts2)"
   ]
  },
  {
   "cell_type": "code",
   "execution_count": 18,
   "metadata": {},
   "outputs": [
    {
     "data": {
      "text/html": [
       "<div>\n",
       "<style scoped>\n",
       "    .dataframe tbody tr th:only-of-type {\n",
       "        vertical-align: middle;\n",
       "    }\n",
       "\n",
       "    .dataframe tbody tr th {\n",
       "        vertical-align: top;\n",
       "    }\n",
       "\n",
       "    .dataframe thead th {\n",
       "        text-align: right;\n",
       "    }\n",
       "</style>\n",
       "<table border=\"1\" class=\"dataframe\">\n",
       "  <thead>\n",
       "    <tr style=\"text-align: right;\">\n",
       "      <th></th>\n",
       "      <th>downs</th>\n",
       "      <th>num_comments</th>\n",
       "      <th>ups</th>\n",
       "    </tr>\n",
       "  </thead>\n",
       "  <tbody>\n",
       "    <tr>\n",
       "      <th>count</th>\n",
       "      <td>971.0</td>\n",
       "      <td>971.000000</td>\n",
       "      <td>971.000000</td>\n",
       "    </tr>\n",
       "    <tr>\n",
       "      <th>mean</th>\n",
       "      <td>0.0</td>\n",
       "      <td>32.527291</td>\n",
       "      <td>388.830072</td>\n",
       "    </tr>\n",
       "    <tr>\n",
       "      <th>std</th>\n",
       "      <td>0.0</td>\n",
       "      <td>57.291838</td>\n",
       "      <td>739.745269</td>\n",
       "    </tr>\n",
       "    <tr>\n",
       "      <th>min</th>\n",
       "      <td>0.0</td>\n",
       "      <td>0.000000</td>\n",
       "      <td>0.000000</td>\n",
       "    </tr>\n",
       "    <tr>\n",
       "      <th>25%</th>\n",
       "      <td>0.0</td>\n",
       "      <td>5.000000</td>\n",
       "      <td>22.000000</td>\n",
       "    </tr>\n",
       "    <tr>\n",
       "      <th>50%</th>\n",
       "      <td>0.0</td>\n",
       "      <td>11.000000</td>\n",
       "      <td>59.000000</td>\n",
       "    </tr>\n",
       "    <tr>\n",
       "      <th>75%</th>\n",
       "      <td>0.0</td>\n",
       "      <td>34.000000</td>\n",
       "      <td>426.500000</td>\n",
       "    </tr>\n",
       "    <tr>\n",
       "      <th>max</th>\n",
       "      <td>0.0</td>\n",
       "      <td>701.000000</td>\n",
       "      <td>9476.000000</td>\n",
       "    </tr>\n",
       "  </tbody>\n",
       "</table>\n",
       "</div>"
      ],
      "text/plain": [
       "       downs  num_comments          ups\n",
       "count  971.0    971.000000   971.000000\n",
       "mean     0.0     32.527291   388.830072\n",
       "std      0.0     57.291838   739.745269\n",
       "min      0.0      0.000000     0.000000\n",
       "25%      0.0      5.000000    22.000000\n",
       "50%      0.0     11.000000    59.000000\n",
       "75%      0.0     34.000000   426.500000\n",
       "max      0.0    701.000000  9476.000000"
      ]
     },
     "execution_count": 18,
     "metadata": {},
     "output_type": "execute_result"
    }
   ],
   "source": [
    "customer.describe()"
   ]
  },
  {
   "cell_type": "code",
   "execution_count": 19,
   "metadata": {},
   "outputs": [
    {
     "name": "stdout",
     "output_type": "stream",
     "text": [
      "<class 'pandas.core.frame.DataFrame'>\n",
      "RangeIndex: 971 entries, 0 to 970\n",
      "Data columns (total 9 columns):\n",
      "author          971 non-null object\n",
      "downs           971 non-null int64\n",
      "name            971 non-null object\n",
      "num_comments    971 non-null int64\n",
      "permalink       971 non-null object\n",
      "selftext        971 non-null object\n",
      "subreddit       971 non-null object\n",
      "title           971 non-null object\n",
      "ups             971 non-null int64\n",
      "dtypes: int64(3), object(6)\n",
      "memory usage: 68.4+ KB\n"
     ]
    }
   ],
   "source": [
    "customer.info()"
   ]
  },
  {
   "cell_type": "code",
   "execution_count": 20,
   "metadata": {},
   "outputs": [
    {
     "data": {
      "text/plain": [
       "author          0\n",
       "downs           0\n",
       "name            0\n",
       "num_comments    0\n",
       "permalink       0\n",
       "selftext        0\n",
       "subreddit       0\n",
       "title           0\n",
       "ups             0\n",
       "dtype: int64"
      ]
     },
     "execution_count": 20,
     "metadata": {},
     "output_type": "execute_result"
    }
   ],
   "source": [
    "customer.isna().sum()"
   ]
  },
  {
   "cell_type": "code",
   "execution_count": 21,
   "metadata": {},
   "outputs": [
    {
     "data": {
      "text/plain": [
       "array(['TalesFromTheCustomer'], dtype=object)"
      ]
     },
     "execution_count": 21,
     "metadata": {},
     "output_type": "execute_result"
    }
   ],
   "source": [
    "customer['subreddit'].unique()"
   ]
  },
  {
   "cell_type": "code",
   "execution_count": 22,
   "metadata": {},
   "outputs": [],
   "source": [
    "customer['subreddit'] = 1"
   ]
  },
  {
   "cell_type": "code",
   "execution_count": 23,
   "metadata": {},
   "outputs": [
    {
     "data": {
      "text/plain": [
       "(971, 9)"
      ]
     },
     "execution_count": 23,
     "metadata": {},
     "output_type": "execute_result"
    }
   ],
   "source": [
    "customer.shape"
   ]
  },
  {
   "cell_type": "code",
   "execution_count": 24,
   "metadata": {},
   "outputs": [],
   "source": [
    "df = pd.concat([server, customer])"
   ]
  },
  {
   "cell_type": "code",
   "execution_count": 25,
   "metadata": {},
   "outputs": [
    {
     "data": {
      "text/plain": [
       "(1952, 9)"
      ]
     },
     "execution_count": 25,
     "metadata": {},
     "output_type": "execute_result"
    }
   ],
   "source": [
    "df.shape"
   ]
  },
  {
   "cell_type": "code",
   "execution_count": 26,
   "metadata": {},
   "outputs": [
    {
     "data": {
      "text/plain": [
       "0    981\n",
       "1    971\n",
       "Name: subreddit, dtype: int64"
      ]
     },
     "execution_count": 26,
     "metadata": {},
     "output_type": "execute_result"
    }
   ],
   "source": [
    "df['subreddit'].value_counts()"
   ]
  },
  {
   "cell_type": "code",
   "execution_count": 27,
   "metadata": {},
   "outputs": [
    {
     "data": {
      "text/html": [
       "<div>\n",
       "<style scoped>\n",
       "    .dataframe tbody tr th:only-of-type {\n",
       "        vertical-align: middle;\n",
       "    }\n",
       "\n",
       "    .dataframe tbody tr th {\n",
       "        vertical-align: top;\n",
       "    }\n",
       "\n",
       "    .dataframe thead th {\n",
       "        text-align: right;\n",
       "    }\n",
       "</style>\n",
       "<table border=\"1\" class=\"dataframe\">\n",
       "  <thead>\n",
       "    <tr style=\"text-align: right;\">\n",
       "      <th></th>\n",
       "      <th>downs</th>\n",
       "      <th>num_comments</th>\n",
       "      <th>ups</th>\n",
       "    </tr>\n",
       "    <tr>\n",
       "      <th>subreddit</th>\n",
       "      <th></th>\n",
       "      <th></th>\n",
       "      <th></th>\n",
       "    </tr>\n",
       "  </thead>\n",
       "  <tbody>\n",
       "    <tr>\n",
       "      <th>0</th>\n",
       "      <td>0.0</td>\n",
       "      <td>25.671764</td>\n",
       "      <td>266.567788</td>\n",
       "    </tr>\n",
       "    <tr>\n",
       "      <th>1</th>\n",
       "      <td>0.0</td>\n",
       "      <td>32.527291</td>\n",
       "      <td>388.830072</td>\n",
       "    </tr>\n",
       "  </tbody>\n",
       "</table>\n",
       "</div>"
      ],
      "text/plain": [
       "           downs  num_comments         ups\n",
       "subreddit                                 \n",
       "0            0.0     25.671764  266.567788\n",
       "1            0.0     32.527291  388.830072"
      ]
     },
     "execution_count": 27,
     "metadata": {},
     "output_type": "execute_result"
    }
   ],
   "source": [
    "df.groupby('subreddit').mean()"
   ]
  },
  {
   "cell_type": "code",
   "execution_count": 30,
   "metadata": {},
   "outputs": [],
   "source": [
    "df.to_csv('reddit_scraping.csv')"
   ]
  }
 ],
 "metadata": {
  "kernelspec": {
   "display_name": "Python 3",
   "language": "python",
   "name": "python3"
  },
  "language_info": {
   "codemirror_mode": {
    "name": "ipython",
    "version": 3
   },
   "file_extension": ".py",
   "mimetype": "text/x-python",
   "name": "python",
   "nbconvert_exporter": "python",
   "pygments_lexer": "ipython3",
   "version": "3.6.8"
  }
 },
 "nbformat": 4,
 "nbformat_minor": 2
}
